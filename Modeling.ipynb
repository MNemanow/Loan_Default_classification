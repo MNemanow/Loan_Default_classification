{
 "cells": [
  {
   "cell_type": "code",
   "execution_count": 1,
   "metadata": {},
   "outputs": [],
   "source": [
    "import time\n",
    "notebook_start = time.time()\n",
    "import pandas as pd\n",
    "import numpy as np\n",
    "import matplotlib.pyplot as plt\n",
    "import seaborn as sns\n",
    "%matplotlib inline\n",
    "\n",
    "from statsmodels.stats.outliers_influence import variance_inflation_factor\n",
    "import statsmodels.api as sm\n",
    "\n",
    "from imblearn.over_sampling import SMOTE\n",
    "\n",
    "from sklearn.preprocessing import StandardScaler, MinMaxScaler, OneHotEncoder, LabelEncoder\n",
    "from sklearn.model_selection import train_test_split, cross_validate, cross_val_score, GridSearchCV\n",
    "from sklearn.dummy import DummyClassifier\n",
    "from sklearn.linear_model import LogisticRegression\n",
    "from sklearn.ensemble import RandomForestClassifier\n",
    "from sklearn.neighbors import KNeighborsClassifier\n",
    "from sklearn.metrics import (confusion_matrix, plot_confusion_matrix, plot_roc_curve, \n",
    "                             accuracy_score, recall_score, precision_score, f1_score)"
   ]
  },
  {
   "cell_type": "code",
   "execution_count": 2,
   "metadata": {},
   "outputs": [
    {
     "name": "stdout",
     "output_type": "stream",
     "text": [
      "<class 'pandas.core.frame.DataFrame'>\n",
      "RangeIndex: 482754 entries, 0 to 482753\n",
      "Data columns (total 12 columns):\n",
      " #   Column            Non-Null Count   Dtype  \n",
      "---  ------            --------------   -----  \n",
      " 0   term              482754 non-null  object \n",
      " 1   int_rate          482754 non-null  float64\n",
      " 2   grade             482754 non-null  object \n",
      " 3   dti               482754 non-null  float64\n",
      " 4   loan_status       482754 non-null  int64  \n",
      " 5   emp_length        482754 non-null  object \n",
      " 6   loan_amnt         482754 non-null  float64\n",
      " 7   annual_inc        482754 non-null  float64\n",
      " 8   application_type  482754 non-null  object \n",
      " 9   home_ownership    482754 non-null  object \n",
      " 10  date              482754 non-null  object \n",
      " 11  zip_code          482754 non-null  object \n",
      "dtypes: float64(4), int64(1), object(7)\n",
      "memory usage: 44.2+ MB\n",
      "None\n"
     ]
    },
    {
     "data": {
      "text/html": [
       "<div>\n",
       "<style scoped>\n",
       "    .dataframe tbody tr th:only-of-type {\n",
       "        vertical-align: middle;\n",
       "    }\n",
       "\n",
       "    .dataframe tbody tr th {\n",
       "        vertical-align: top;\n",
       "    }\n",
       "\n",
       "    .dataframe thead th {\n",
       "        text-align: right;\n",
       "    }\n",
       "</style>\n",
       "<table border=\"1\" class=\"dataframe\">\n",
       "  <thead>\n",
       "    <tr style=\"text-align: right;\">\n",
       "      <th></th>\n",
       "      <th>term</th>\n",
       "      <th>int_rate</th>\n",
       "      <th>grade</th>\n",
       "      <th>dti</th>\n",
       "      <th>loan_status</th>\n",
       "      <th>emp_length</th>\n",
       "      <th>loan_amnt</th>\n",
       "      <th>annual_inc</th>\n",
       "      <th>application_type</th>\n",
       "      <th>home_ownership</th>\n",
       "      <th>date</th>\n",
       "      <th>zip_code</th>\n",
       "    </tr>\n",
       "  </thead>\n",
       "  <tbody>\n",
       "    <tr>\n",
       "      <th>0</th>\n",
       "      <td>36 months</td>\n",
       "      <td>11.22</td>\n",
       "      <td>B</td>\n",
       "      <td>3.10</td>\n",
       "      <td>0</td>\n",
       "      <td>7 years</td>\n",
       "      <td>5000.0</td>\n",
       "      <td>65000.0</td>\n",
       "      <td>Individual</td>\n",
       "      <td>MORTGAGE</td>\n",
       "      <td>2016-01-01</td>\n",
       "      <td>201xx</td>\n",
       "    </tr>\n",
       "    <tr>\n",
       "      <th>1</th>\n",
       "      <td>36 months</td>\n",
       "      <td>9.17</td>\n",
       "      <td>B</td>\n",
       "      <td>20.30</td>\n",
       "      <td>0</td>\n",
       "      <td>10+ years</td>\n",
       "      <td>35000.0</td>\n",
       "      <td>82400.0</td>\n",
       "      <td>Individual</td>\n",
       "      <td>MORTGAGE</td>\n",
       "      <td>2016-01-01</td>\n",
       "      <td>146xx</td>\n",
       "    </tr>\n",
       "    <tr>\n",
       "      <th>2</th>\n",
       "      <td>36 months</td>\n",
       "      <td>5.32</td>\n",
       "      <td>A</td>\n",
       "      <td>7.43</td>\n",
       "      <td>0</td>\n",
       "      <td>9 years</td>\n",
       "      <td>20000.0</td>\n",
       "      <td>200000.0</td>\n",
       "      <td>Individual</td>\n",
       "      <td>OWN</td>\n",
       "      <td>2016-01-01</td>\n",
       "      <td>208xx</td>\n",
       "    </tr>\n",
       "    <tr>\n",
       "      <th>3</th>\n",
       "      <td>36 months</td>\n",
       "      <td>10.78</td>\n",
       "      <td>B</td>\n",
       "      <td>2.75</td>\n",
       "      <td>0</td>\n",
       "      <td>6 years</td>\n",
       "      <td>6000.0</td>\n",
       "      <td>85000.0</td>\n",
       "      <td>Individual</td>\n",
       "      <td>RENT</td>\n",
       "      <td>2016-01-01</td>\n",
       "      <td>908xx</td>\n",
       "    </tr>\n",
       "    <tr>\n",
       "      <th>4</th>\n",
       "      <td>36 months</td>\n",
       "      <td>12.88</td>\n",
       "      <td>C</td>\n",
       "      <td>8.07</td>\n",
       "      <td>1</td>\n",
       "      <td>&lt; 1 year</td>\n",
       "      <td>3725.0</td>\n",
       "      <td>16800.0</td>\n",
       "      <td>Individual</td>\n",
       "      <td>RENT</td>\n",
       "      <td>2016-01-01</td>\n",
       "      <td>294xx</td>\n",
       "    </tr>\n",
       "    <tr>\n",
       "      <th>...</th>\n",
       "      <td>...</td>\n",
       "      <td>...</td>\n",
       "      <td>...</td>\n",
       "      <td>...</td>\n",
       "      <td>...</td>\n",
       "      <td>...</td>\n",
       "      <td>...</td>\n",
       "      <td>...</td>\n",
       "      <td>...</td>\n",
       "      <td>...</td>\n",
       "      <td>...</td>\n",
       "      <td>...</td>\n",
       "    </tr>\n",
       "    <tr>\n",
       "      <th>482749</th>\n",
       "      <td>36 months</td>\n",
       "      <td>14.47</td>\n",
       "      <td>C</td>\n",
       "      <td>23.76</td>\n",
       "      <td>0</td>\n",
       "      <td>10+ years</td>\n",
       "      <td>7450.0</td>\n",
       "      <td>76000.0</td>\n",
       "      <td>Individual</td>\n",
       "      <td>MORTGAGE</td>\n",
       "      <td>2018-12-01</td>\n",
       "      <td>483xx</td>\n",
       "    </tr>\n",
       "    <tr>\n",
       "      <th>482750</th>\n",
       "      <td>36 months</td>\n",
       "      <td>12.98</td>\n",
       "      <td>B</td>\n",
       "      <td>26.50</td>\n",
       "      <td>0</td>\n",
       "      <td>10+ years</td>\n",
       "      <td>9600.0</td>\n",
       "      <td>75000.0</td>\n",
       "      <td>Individual</td>\n",
       "      <td>RENT</td>\n",
       "      <td>2018-12-01</td>\n",
       "      <td>917xx</td>\n",
       "    </tr>\n",
       "    <tr>\n",
       "      <th>482751</th>\n",
       "      <td>36 months</td>\n",
       "      <td>7.02</td>\n",
       "      <td>A</td>\n",
       "      <td>16.38</td>\n",
       "      <td>0</td>\n",
       "      <td>&lt; 1 year</td>\n",
       "      <td>20000.0</td>\n",
       "      <td>97000.0</td>\n",
       "      <td>Individual</td>\n",
       "      <td>RENT</td>\n",
       "      <td>2018-12-01</td>\n",
       "      <td>801xx</td>\n",
       "    </tr>\n",
       "    <tr>\n",
       "      <th>482752</th>\n",
       "      <td>36 months</td>\n",
       "      <td>15.02</td>\n",
       "      <td>C</td>\n",
       "      <td>11.64</td>\n",
       "      <td>0</td>\n",
       "      <td>&lt; 1 year</td>\n",
       "      <td>10000.0</td>\n",
       "      <td>66000.0</td>\n",
       "      <td>Individual</td>\n",
       "      <td>OWN</td>\n",
       "      <td>2018-12-01</td>\n",
       "      <td>452xx</td>\n",
       "    </tr>\n",
       "    <tr>\n",
       "      <th>482753</th>\n",
       "      <td>60 months</td>\n",
       "      <td>19.92</td>\n",
       "      <td>D</td>\n",
       "      <td>35.49</td>\n",
       "      <td>0</td>\n",
       "      <td>2 years</td>\n",
       "      <td>10400.0</td>\n",
       "      <td>40000.0</td>\n",
       "      <td>Joint App</td>\n",
       "      <td>RENT</td>\n",
       "      <td>2018-12-01</td>\n",
       "      <td>117xx</td>\n",
       "    </tr>\n",
       "  </tbody>\n",
       "</table>\n",
       "<p>482754 rows × 12 columns</p>\n",
       "</div>"
      ],
      "text/plain": [
       "              term  int_rate grade    dti  loan_status emp_length  loan_amnt  \\\n",
       "0        36 months     11.22     B   3.10            0    7 years     5000.0   \n",
       "1        36 months      9.17     B  20.30            0  10+ years    35000.0   \n",
       "2        36 months      5.32     A   7.43            0    9 years    20000.0   \n",
       "3        36 months     10.78     B   2.75            0    6 years     6000.0   \n",
       "4        36 months     12.88     C   8.07            1   < 1 year     3725.0   \n",
       "...            ...       ...   ...    ...          ...        ...        ...   \n",
       "482749   36 months     14.47     C  23.76            0  10+ years     7450.0   \n",
       "482750   36 months     12.98     B  26.50            0  10+ years     9600.0   \n",
       "482751   36 months      7.02     A  16.38            0   < 1 year    20000.0   \n",
       "482752   36 months     15.02     C  11.64            0   < 1 year    10000.0   \n",
       "482753   60 months     19.92     D  35.49            0    2 years    10400.0   \n",
       "\n",
       "        annual_inc application_type home_ownership        date zip_code  \n",
       "0          65000.0       Individual       MORTGAGE  2016-01-01    201xx  \n",
       "1          82400.0       Individual       MORTGAGE  2016-01-01    146xx  \n",
       "2         200000.0       Individual            OWN  2016-01-01    208xx  \n",
       "3          85000.0       Individual           RENT  2016-01-01    908xx  \n",
       "4          16800.0       Individual           RENT  2016-01-01    294xx  \n",
       "...            ...              ...            ...         ...      ...  \n",
       "482749     76000.0       Individual       MORTGAGE  2018-12-01    483xx  \n",
       "482750     75000.0       Individual           RENT  2018-12-01    917xx  \n",
       "482751     97000.0       Individual           RENT  2018-12-01    801xx  \n",
       "482752     66000.0       Individual            OWN  2018-12-01    452xx  \n",
       "482753     40000.0        Joint App           RENT  2018-12-01    117xx  \n",
       "\n",
       "[482754 rows x 12 columns]"
      ]
     },
     "execution_count": 2,
     "metadata": {},
     "output_type": "execute_result"
    }
   ],
   "source": [
    "pd.set_option('display.max_colwidth', None)\n",
    "# download a dataset with a description of each column\n",
    "feat_def = pd.read_excel('https://resources.lendingclub.com/LCDataDictionary.xlsx')\n",
    "\n",
    "accepted_df = pd.read_csv('data/accepted_16_to_18.csv')\n",
    "print(accepted_df.info())\n",
    "accepted_df"
   ]
  },
  {
   "cell_type": "markdown",
   "metadata": {},
   "source": [
    "## Pre-processing"
   ]
  },
  {
   "cell_type": "markdown",
   "metadata": {},
   "source": [
    "As I mentioned in the cleaning and eda notebook, I am going to focus on predicting the loans with high interest. But first I'll try to predict on all the loans.\n",
    "\n",
    "I will scale the numerical data, and use a label encoder to put the categorical features in numeric form so the model can handle them. I will scale after the train test split to avoid any leakage."
   ]
  },
  {
   "cell_type": "code",
   "execution_count": 3,
   "metadata": {},
   "outputs": [
    {
     "data": {
      "text/html": [
       "<div>\n",
       "<style scoped>\n",
       "    .dataframe tbody tr th:only-of-type {\n",
       "        vertical-align: middle;\n",
       "    }\n",
       "\n",
       "    .dataframe tbody tr th {\n",
       "        vertical-align: top;\n",
       "    }\n",
       "\n",
       "    .dataframe thead th {\n",
       "        text-align: right;\n",
       "    }\n",
       "</style>\n",
       "<table border=\"1\" class=\"dataframe\">\n",
       "  <thead>\n",
       "    <tr style=\"text-align: right;\">\n",
       "      <th></th>\n",
       "      <th>term</th>\n",
       "      <th>int_rate</th>\n",
       "      <th>grade</th>\n",
       "      <th>dti</th>\n",
       "      <th>loan_status</th>\n",
       "      <th>emp_length</th>\n",
       "      <th>loan_amnt</th>\n",
       "      <th>annual_inc</th>\n",
       "      <th>application_type</th>\n",
       "      <th>home_ownership</th>\n",
       "      <th>date</th>\n",
       "      <th>zip_code</th>\n",
       "    </tr>\n",
       "  </thead>\n",
       "  <tbody>\n",
       "    <tr>\n",
       "      <th>0</th>\n",
       "      <td>0</td>\n",
       "      <td>11.22</td>\n",
       "      <td>1</td>\n",
       "      <td>3.10</td>\n",
       "      <td>0</td>\n",
       "      <td>7</td>\n",
       "      <td>5000.0</td>\n",
       "      <td>65000.0</td>\n",
       "      <td>0</td>\n",
       "      <td>1</td>\n",
       "      <td>2016-01-01</td>\n",
       "      <td>201xx</td>\n",
       "    </tr>\n",
       "    <tr>\n",
       "      <th>1</th>\n",
       "      <td>0</td>\n",
       "      <td>9.17</td>\n",
       "      <td>1</td>\n",
       "      <td>20.30</td>\n",
       "      <td>0</td>\n",
       "      <td>1</td>\n",
       "      <td>35000.0</td>\n",
       "      <td>82400.0</td>\n",
       "      <td>0</td>\n",
       "      <td>1</td>\n",
       "      <td>2016-01-01</td>\n",
       "      <td>146xx</td>\n",
       "    </tr>\n",
       "    <tr>\n",
       "      <th>2</th>\n",
       "      <td>0</td>\n",
       "      <td>5.32</td>\n",
       "      <td>0</td>\n",
       "      <td>7.43</td>\n",
       "      <td>0</td>\n",
       "      <td>9</td>\n",
       "      <td>20000.0</td>\n",
       "      <td>200000.0</td>\n",
       "      <td>0</td>\n",
       "      <td>3</td>\n",
       "      <td>2016-01-01</td>\n",
       "      <td>208xx</td>\n",
       "    </tr>\n",
       "    <tr>\n",
       "      <th>3</th>\n",
       "      <td>0</td>\n",
       "      <td>10.78</td>\n",
       "      <td>1</td>\n",
       "      <td>2.75</td>\n",
       "      <td>0</td>\n",
       "      <td>6</td>\n",
       "      <td>6000.0</td>\n",
       "      <td>85000.0</td>\n",
       "      <td>0</td>\n",
       "      <td>4</td>\n",
       "      <td>2016-01-01</td>\n",
       "      <td>908xx</td>\n",
       "    </tr>\n",
       "    <tr>\n",
       "      <th>4</th>\n",
       "      <td>0</td>\n",
       "      <td>12.88</td>\n",
       "      <td>2</td>\n",
       "      <td>8.07</td>\n",
       "      <td>1</td>\n",
       "      <td>10</td>\n",
       "      <td>3725.0</td>\n",
       "      <td>16800.0</td>\n",
       "      <td>0</td>\n",
       "      <td>4</td>\n",
       "      <td>2016-01-01</td>\n",
       "      <td>294xx</td>\n",
       "    </tr>\n",
       "    <tr>\n",
       "      <th>...</th>\n",
       "      <td>...</td>\n",
       "      <td>...</td>\n",
       "      <td>...</td>\n",
       "      <td>...</td>\n",
       "      <td>...</td>\n",
       "      <td>...</td>\n",
       "      <td>...</td>\n",
       "      <td>...</td>\n",
       "      <td>...</td>\n",
       "      <td>...</td>\n",
       "      <td>...</td>\n",
       "      <td>...</td>\n",
       "    </tr>\n",
       "    <tr>\n",
       "      <th>482749</th>\n",
       "      <td>0</td>\n",
       "      <td>14.47</td>\n",
       "      <td>2</td>\n",
       "      <td>23.76</td>\n",
       "      <td>0</td>\n",
       "      <td>1</td>\n",
       "      <td>7450.0</td>\n",
       "      <td>76000.0</td>\n",
       "      <td>0</td>\n",
       "      <td>1</td>\n",
       "      <td>2018-12-01</td>\n",
       "      <td>483xx</td>\n",
       "    </tr>\n",
       "    <tr>\n",
       "      <th>482750</th>\n",
       "      <td>0</td>\n",
       "      <td>12.98</td>\n",
       "      <td>1</td>\n",
       "      <td>26.50</td>\n",
       "      <td>0</td>\n",
       "      <td>1</td>\n",
       "      <td>9600.0</td>\n",
       "      <td>75000.0</td>\n",
       "      <td>0</td>\n",
       "      <td>4</td>\n",
       "      <td>2018-12-01</td>\n",
       "      <td>917xx</td>\n",
       "    </tr>\n",
       "    <tr>\n",
       "      <th>482751</th>\n",
       "      <td>0</td>\n",
       "      <td>7.02</td>\n",
       "      <td>0</td>\n",
       "      <td>16.38</td>\n",
       "      <td>0</td>\n",
       "      <td>10</td>\n",
       "      <td>20000.0</td>\n",
       "      <td>97000.0</td>\n",
       "      <td>0</td>\n",
       "      <td>4</td>\n",
       "      <td>2018-12-01</td>\n",
       "      <td>801xx</td>\n",
       "    </tr>\n",
       "    <tr>\n",
       "      <th>482752</th>\n",
       "      <td>0</td>\n",
       "      <td>15.02</td>\n",
       "      <td>2</td>\n",
       "      <td>11.64</td>\n",
       "      <td>0</td>\n",
       "      <td>10</td>\n",
       "      <td>10000.0</td>\n",
       "      <td>66000.0</td>\n",
       "      <td>0</td>\n",
       "      <td>3</td>\n",
       "      <td>2018-12-01</td>\n",
       "      <td>452xx</td>\n",
       "    </tr>\n",
       "    <tr>\n",
       "      <th>482753</th>\n",
       "      <td>1</td>\n",
       "      <td>19.92</td>\n",
       "      <td>3</td>\n",
       "      <td>35.49</td>\n",
       "      <td>0</td>\n",
       "      <td>2</td>\n",
       "      <td>10400.0</td>\n",
       "      <td>40000.0</td>\n",
       "      <td>1</td>\n",
       "      <td>4</td>\n",
       "      <td>2018-12-01</td>\n",
       "      <td>117xx</td>\n",
       "    </tr>\n",
       "  </tbody>\n",
       "</table>\n",
       "<p>482754 rows × 12 columns</p>\n",
       "</div>"
      ],
      "text/plain": [
       "        term  int_rate  grade    dti  loan_status  emp_length  loan_amnt  \\\n",
       "0          0     11.22      1   3.10            0           7     5000.0   \n",
       "1          0      9.17      1  20.30            0           1    35000.0   \n",
       "2          0      5.32      0   7.43            0           9    20000.0   \n",
       "3          0     10.78      1   2.75            0           6     6000.0   \n",
       "4          0     12.88      2   8.07            1          10     3725.0   \n",
       "...      ...       ...    ...    ...          ...         ...        ...   \n",
       "482749     0     14.47      2  23.76            0           1     7450.0   \n",
       "482750     0     12.98      1  26.50            0           1     9600.0   \n",
       "482751     0      7.02      0  16.38            0          10    20000.0   \n",
       "482752     0     15.02      2  11.64            0          10    10000.0   \n",
       "482753     1     19.92      3  35.49            0           2    10400.0   \n",
       "\n",
       "        annual_inc  application_type  home_ownership        date zip_code  \n",
       "0          65000.0                 0               1  2016-01-01    201xx  \n",
       "1          82400.0                 0               1  2016-01-01    146xx  \n",
       "2         200000.0                 0               3  2016-01-01    208xx  \n",
       "3          85000.0                 0               4  2016-01-01    908xx  \n",
       "4          16800.0                 0               4  2016-01-01    294xx  \n",
       "...            ...               ...             ...         ...      ...  \n",
       "482749     76000.0                 0               1  2018-12-01    483xx  \n",
       "482750     75000.0                 0               4  2018-12-01    917xx  \n",
       "482751     97000.0                 0               4  2018-12-01    801xx  \n",
       "482752     66000.0                 0               3  2018-12-01    452xx  \n",
       "482753     40000.0                 1               4  2018-12-01    117xx  \n",
       "\n",
       "[482754 rows x 12 columns]"
      ]
     },
     "execution_count": 3,
     "metadata": {},
     "output_type": "execute_result"
    }
   ],
   "source": [
    "df = accepted_df.copy()\n",
    "# instantiate a label encoder and transform the categorical features\n",
    "le = LabelEncoder()\n",
    "df['application_type'] = le.fit_transform(df['application_type'])\n",
    "df['term'] = le.fit_transform(df['term'])\n",
    "df['grade'] = le.fit_transform(df['grade'])\n",
    "df['home_ownership'] = le.fit_transform(df['home_ownership'])\n",
    "df['emp_length'] = le.fit_transform(df['emp_length'])\n",
    "df"
   ]
  },
  {
   "cell_type": "code",
   "execution_count": 4,
   "metadata": {},
   "outputs": [],
   "source": [
    "# split the data into a training set and testing set.\n",
    "# I won't be using the date or zip_codes for the training.\n",
    "X = df.drop(['loan_status', 'date', 'zip_code'],axis=1).copy()\n",
    "y = df['loan_status'].copy()\n",
    "X_train, X_test, y_train, y_test = train_test_split(X, y, test_size=0.15, random_state=42)"
   ]
  },
  {
   "cell_type": "code",
   "execution_count": 5,
   "metadata": {},
   "outputs": [],
   "source": [
    "# instantiate scaler\n",
    "sc = StandardScaler()\n",
    "\n",
    "# seperate the numerical and categorical columns for training and testing data so that I can scale the numerical\n",
    "# and then concatenate them.\n",
    "# reset the index for smoothe concatenation\n",
    "num_train = X_train.select_dtypes(include='float64').reset_index(drop=True)\n",
    "num_test = X_test.select_dtypes(include='float64').reset_index(drop=True)\n",
    "cat_train = X_train.select_dtypes(include='int32').reset_index(drop=True)\n",
    "cat_test = X_test.select_dtypes(include='int32').reset_index(drop=True)\n",
    "\n",
    "# fit and transform the scaler on training and testing data\n",
    "sc_num_train = sc.fit_transform(num_train)\n",
    "sc_num_test = sc.transform(num_test)\n",
    "# put the scaled data back into a dataframe\n",
    "sc_train_df = pd.DataFrame(sc_num_train, columns=num_train.columns)\n",
    "sc_test_df = pd.DataFrame(sc_num_test, columns=num_test.columns)\n",
    "\n",
    "# concatenate back together\n",
    "X_train_ready = pd.concat([sc_train_df, cat_train], axis=1)\n",
    "X_test_ready = pd.concat([sc_test_df, cat_test], axis=1)"
   ]
  },
  {
   "cell_type": "markdown",
   "metadata": {},
   "source": [
    "Here's a baseline model to compare the rest of our models to."
   ]
  },
  {
   "cell_type": "code",
   "execution_count": 6,
   "metadata": {},
   "outputs": [
    {
     "data": {
      "text/plain": [
       "0.6577871682271385"
      ]
     },
     "execution_count": 6,
     "metadata": {},
     "output_type": "execute_result"
    },
    {
     "data": {
      "image/png": "[encoded data removed]",
      "text/plain": [
       "<Figure size 432x288 with 2 Axes>"
      ]
     },
     "metadata": {
      "needs_background": "light"
     },
     "output_type": "display_data"
    }
   ],
   "source": [
    "dummy = DummyClassifier(strategy=\"stratified\", random_state=42)\n",
    "dummy.fit(X_train_ready, y_train)\n",
    "plot_confusion_matrix(dummy, X_test_ready, y_test)\n",
    "dummy.score(X_test_ready, y_test)"
   ]
  },
  {
   "cell_type": "code",
   "execution_count": 7,
   "metadata": {
    "scrolled": false
   },
   "outputs": [
    {
     "name": "stdout",
     "output_type": "stream",
     "text": [
      "Training accuracy of Logistic Regression is: 78.41\n",
      "Accuracy of Logistic Regression is: 78.24\n",
      "Recall of Logistic Regression is: 9.91\n"
     ]
    },
    {
     "data": {
      "image/png": "[encoded data removed]",
      "text/plain": [
       "<Figure size 432x288 with 2 Axes>"
      ]
     },
     "metadata": {
      "needs_background": "light"
     },
     "output_type": "display_data"
    }
   ],
   "source": [
    "# Instantiate a logistic regression then fit it on X_train and get the scoring metrics witha confusion matrix\n",
    "lr=LogisticRegression(random_state=42)\n",
    "lr.fit(X_train_ready,y_train)\n",
    "train_pred = lr.predict(X_train_ready)\n",
    "lr_pred = lr.predict(X_test_ready)\n",
    "train_accuracy = accuracy_score(y_train, train_pred)*100\n",
    "lr_accuracy= accuracy_score(y_test, lr_pred)*100\n",
    "lr_recall = recall_score(y_test, lr_pred)*100\n",
    "print('Training accuracy of Logistic Regression is: {:.2f}'.format(train_accuracy))\n",
    "print('Accuracy of Logistic Regression is: {:.2f}'.format(lr_accuracy))\n",
    "print('Recall of Logistic Regression is: {:.2f}'.format(lr_recall))\n",
    "plot_confusion_matrix(lr, X_test_ready, y_test);"
   ]
  },
  {
   "cell_type": "markdown",
   "metadata": {},
   "source": [
    "Being able to predict almost 80 percent of the time, should be enough to make you money with this type of investment. However if we're trying to find an edge to get very good value, our model needs to be more sensitive to the defaulted loans. Meaning when our model thinks a loan is safe, we need to be very confident that that's the case. Even if our model tells us that a lot of loans will default when in reality only a few will, if narrow down our investments to the loans the model does not think will default, we get a much better return. So far our model does a very poor job identifying the bad loans. This is largely due to the great imbalance in the classes, which makes it very hard for the model to learn what a defaulted loan would look like.\n",
    "\n",
    "There are 3 ways I can think of to help with this:\n",
    "* Alter the weights of each class to put more weight on the minority class. \n",
    "* Lower the threshhold for predicting a \"1\" to make it more sensitive. \n",
    "* Oversample the minority class with a over-sampling technique like SMOTE to correct the imbalance.\n",
    "\n",
    "Note that the better recall score will probably come at the cost of overall accuaracy.\n",
    "\n",
    "Normally I would use SMOTE to fix this imbalance, but in this case I think it is simpler to lower the threshold of the probability function to be more conservative. Because there are so many loans to choose to invest in, we can let our model be extremely picky with which loans it thinks is safe. This should get us the best returns on our investment. So even though I want to get the highest recall possible, I will optimize the model for accuracy, and then adjust the threshold to get the best returns.\n",
    "\n",
    "I'll now run a grid search on Logistic regression, KNN and Random forest to see which performs best."
   ]
  },
  {
   "cell_type": "code",
   "execution_count": 8,
   "metadata": {},
   "outputs": [],
   "source": [
    "# # instantiate the SMOTE object and fit and sample on the training data.\n",
    "# smote = SMOTE(random_state=42)\n",
    "# X_train_sm, y_train_sm = smote.fit_sample(X_train_ready, y_train)\n",
    "# # check to see the new balance of classes\n",
    "# print('Balance before SMOTE:')\n",
    "# print(y_train.value_counts(normalize=True))\n",
    "# print('')      \n",
    "# print('Balance after SMOTE:')\n",
    "# print(y_train_sm.value_counts(normalize=True))"
   ]
  },
  {
   "cell_type": "code",
   "execution_count": 9,
   "metadata": {},
   "outputs": [],
   "source": [
    "# function for the grid search on logistic regression \n",
    "def logreg(X_train, X_test, y_train, y_test, cv=3):\n",
    "    \n",
    "    # Set GridSearchCV hyperparameters to compare & select\n",
    "    grid = {\n",
    "    'max_iter': [75, 100, 150, 200],\n",
    "    'C': [0.01, 0.1, 1, 10],\n",
    "    # because I used smote to fix the imbalance I will give it the option of weighting the paid loans more as well\n",
    "    'class_weight': [{0:2, 1:1}, {0:1, 1:1}, {0:1, 1:3}, {0:1, 1:4}]\n",
    "    }\n",
    "    \n",
    "    # Instantiate & fit LogReg model for GridSearch\n",
    "    grid_logreg = LogisticRegression(random_state=42)\n",
    "    # Instantiate & fit GridSearchCV with accuracy scoring\n",
    "    gs = GridSearchCV(estimator=grid_logreg, param_grid=grid, cv=cv, scoring='accuracy')\n",
    "    gs.fit(X_train, y_train)\n",
    "    # print out the best parameters\n",
    "    params = gs.best_params_\n",
    "    print(f\"Best class_weight: {params['class_weight']}, Best 'C': {params['C']}, Best 'max_iter': {params['max_iter']}\")\n",
    "    # instantiate new logistic regression with these parameters\n",
    "    lr = LogisticRegression(max_iter=params['max_iter'], C=params['C'],\n",
    "                            class_weight=params['class_weight'],random_state=42 )\n",
    "    print('')\n",
    "    # print the training accuracy\n",
    "    lr.fit(X_train, y_train)\n",
    "    train_pred = lr.predict(X_train)\n",
    "    print('Training accuracy:', round(accuracy_score(y_train, train_pred), 4)*100)\n",
    "    # Run cross-validation using the new logistic regression and print the accuracy \n",
    "    cv_results = cross_val_score(lr, X_train, y_train, cv=cv)\n",
    "    print(\"Mean Cross-Validation accuracy:\", round(cv_results.mean(),4)*100)\n",
    "    # print the test accuracy score\n",
    "    y_pred = lr.predict(X_test)\n",
    "    print('Testing accuracy:', round(accuracy_score(y_test, y_pred), 4)*100)\n",
    "    # Plot Confusion Matrix\n",
    "    plot_confusion_matrix(lr, X_test, y_test)"
   ]
  },
  {
   "cell_type": "code",
   "execution_count": 10,
   "metadata": {},
   "outputs": [
    {
     "name": "stdout",
     "output_type": "stream",
     "text": [
      "Best class_weight: {0: 1, 1: 1}, Best 'C': 1, Best 'max_iter': 75\n",
      "\n",
      "Training accuracy: 78.41\n",
      "Mean Cross-Validation accuracy: 78.41\n",
      "Testing accuracy: 78.24\n",
      "\n",
      "(This cell takes 201 seconds to run)\n"
     ]
    },
    {
     "data": {
      "image/png": "[encoded data removed]",
      "text/plain": [
       "<Figure size 432x288 with 2 Axes>"
      ]
     },
     "metadata": {
      "needs_background": "light"
     },
     "output_type": "display_data"
    }
   ],
   "source": [
    "cell_start = time.time()\n",
    "logreg(X_train_ready, X_test_ready, y_train, y_test)\n",
    "print(\"\")\n",
    "print(f'(This cell takes {int(time.time() - cell_start)} seconds to run)')"
   ]
  },
  {
   "cell_type": "code",
   "execution_count": 11,
   "metadata": {},
   "outputs": [
    {
     "data": {
      "text/plain": [
       "72414"
      ]
     },
     "execution_count": 11,
     "metadata": {},
     "output_type": "execute_result"
    }
   ],
   "source": [
    "len(y_test)"
   ]
  },
  {
   "cell_type": "code",
   "execution_count": 12,
   "metadata": {},
   "outputs": [],
   "source": [
    "# function for the grid search on KNearest Neighbors \n",
    "def knn(X_train, X_test, y_train, y_test, cv=3):\n",
    "    \n",
    "    # Set GridSearchCV hyperparameters to compare & select\n",
    "    param_grid = {\n",
    "    'n_neighbors': [3,5,9,13],\n",
    "    'metric': ['minkowski', 'manhattan'],\n",
    "    'weights': ['uniform', 'distance']\n",
    "    }\n",
    "    \n",
    "    # Instantiate & fit LogReg model for GridSearch\n",
    "    grid_knn = KNeighborsClassifier()\n",
    "    # Instantiate & fit GridSearchCV with accuracy scoring\n",
    "    gs = GridSearchCV(estimator=grid_knn, param_grid=param_grid, cv=cv, scoring='accuracy')\n",
    "    gs.fit(X_train, y_train)\n",
    "    # print out the best parameters\n",
    "    params = gs.best_params_\n",
    "    print(f\"Best 'n_neighbors': {params['n_neighbors']}, Best 'metric': {params['metric']},\\\n",
    "          Best 'weights': {params['weights']}\")\n",
    "    print('')\n",
    "    # instantiate new logistic regression with these parameters\n",
    "    knn = KNeighborsClassifier(n_neighbors=params['n_neighbors'], metric=params['metric'],\n",
    "                            weights=params['weights'])\n",
    "    # print the training score\n",
    "    knn.fit(X_train, y_train)\n",
    "    train_pred = knn.predict(X_train)\n",
    "    print('Training accuracy:', round(accuracy_score(y_train, train_pred), 4)*100)\n",
    "    # Run cross-validation using the new knn and print the accuracy\n",
    "    cv_results = cross_val_score(knn, X_train, y_train, cv=cv)\n",
    "    print(\"Mean Cross-Validation accuracy:\", round(cv_results.mean(), 4)*100)\n",
    "    # print testing accuracy\n",
    "    y_pred = knn.predict(X_test)\n",
    "    print('Testing accuracy:', round(accuracy_score(y_test, y_pred), 4)*100)\n",
    "    # Plot Confusion Matrix\n",
    "    plot_confusion_matrix(knn, X_test, y_test)"
   ]
  },
  {
   "cell_type": "code",
   "execution_count": 14,
   "metadata": {},
   "outputs": [
    {
     "name": "stdout",
     "output_type": "stream",
     "text": [
      "Best 'n_neighbors': 13, Best 'metric': manhattan,          Best 'weights': uniform\n",
      "\n",
      "Training accuracy: 79.64\n",
      "Mean Cross-Validation accuracy: 77.36\n",
      "Testing accuracy: 77.27000000000001\n",
      "\n",
      "(This cell takes 1086 seconds to run)\n"
     ]
    },
    {
     "data": {
      "image/png": "[encoded data removed]",
      "text/plain": [
       "<Figure size 432x288 with 2 Axes>"
      ]
     },
     "metadata": {
      "needs_background": "light"
     },
     "output_type": "display_data"
    }
   ],
   "source": [
    "# depending on computer power, this cell can take over a half hour to run.\n",
    "cell_start = time.time()\n",
    "knn(X_train_ready, X_test_ready, y_train, y_test)\n",
    "print(\"\")\n",
    "print(f'(This cell takes {int(time.time() - cell_start)} seconds to run)')"
   ]
  },
  {
   "cell_type": "code",
   "execution_count": 15,
   "metadata": {},
   "outputs": [],
   "source": [
    "# make a function for the grid search on random forest to avoid repetitiveness \n",
    "def random_forest(X_train, X_test, y_train, y_test, cv=3):\n",
    "    \n",
    "    # Set GridSearchCV hyperparameters to compare & select\n",
    "    param_grid = {\n",
    "    'n_estimators': [100, 125, 150],\n",
    "    'max_depth':  [15, 25],\n",
    "    'min_samples_split': [2, 5]\n",
    "     }\n",
    "    # Instantiate & fit LogReg model for GridSearch\n",
    "    grid_rf = RandomForestClassifier(random_state=42)\n",
    "    # Instantiate & fit GridSearchCV with accuracy scoring\n",
    "    gs = GridSearchCV(estimator=grid_rf, param_grid=param_grid, cv=cv, scoring='accuracy')\n",
    "    gs.fit(X_train, y_train)\n",
    "    # print out the best parameters\n",
    "    params = gs.best_params_\n",
    "    print(f\"Best 'n_estimators': {params['n_estimators']}, Best 'max_depth': {params['max_depth']},\\\n",
    "                       Best 'min_samples_split': {params['min_samples_split']}\")\n",
    "    print('')\n",
    "    # instantiate new logistic regression with these parameters\n",
    "    rf = RandomForestClassifier(n_estimators=params['n_estimators'], max_depth=params['max_depth'], \n",
    "                                min_samples_split=params['min_samples_split'], random_state=42 )\n",
    "    # print the training score\n",
    "    rf.fit(X_train, y_train)\n",
    "    train_pred = rf.predict(X_train)\n",
    "    print('Training accuracy:', round(accuracy_score(y_train, train_pred), 4)*100)\n",
    "    # Run cross-validation using the new Random forest\n",
    "    cv_results = cross_val_score(rf, X_train, y_train, cv=cv)\n",
    "    print(\"Mean Cross-Validation accuracy:\", round(cv_results.mean(), 4)*100)\n",
    "    # print testing accuracy\n",
    "    y_pred = rf.predict(X_test)\n",
    "    print('Testing accuracy:', round(accuracy_score(y_test, y_pred), 4)*100)\n",
    "    # Plot Confusion Matrix\n",
    "    plot_confusion_matrix(rf, X_test, y_test)"
   ]
  },
  {
   "cell_type": "code",
   "execution_count": 16,
   "metadata": {
    "scrolled": false
   },
   "outputs": [
    {
     "name": "stdout",
     "output_type": "stream",
     "text": [
      "Best 'n_estimators': 150, Best 'max_depth': 15,                       Best 'min_samples_split': 5\n",
      "\n",
      "Training accuracy: 80.86\n",
      "Mean Cross-Validation accuracy: 78.48\n",
      "Testing accuracy: 78.35\n",
      "\n",
      "(This cell takes 1986 seconds to run)\n"
     ]
    },
    {
     "data": {
      "image/png": "[encoded data removed]",
      "text/plain": [
       "<Figure size 432x288 with 2 Axes>"
      ]
     },
     "metadata": {
      "needs_background": "light"
     },
     "output_type": "display_data"
    }
   ],
   "source": [
    "cell_start = time.time()\n",
    "random_forest(X_train_ready, X_test_ready, y_train, y_test)\n",
    "print(\"\")\n",
    "print(f'(This cell takes {int(time.time() - cell_start)} seconds to run)')"
   ]
  },
  {
   "cell_type": "markdown",
   "metadata": {},
   "source": [
    "We need to take in to acount that the cross-validation is using data that was oversampled with SMOTE, so the results won't be this good on the test data which still has the imbalance. With that being said, these models should still have good sensitivity on the test data, and in that area KNNis the winner with a 90% sensitivity. With a sensitivity like that, the investor can be confident that very few of the loans the model suggests investing in will default, which means we will almost always be getting the interest from the loan we invest in.\n",
    "\n",
    "I'll now run the model on the testing data, using the hyperparametrs the grid search chose. I will use the predict_proba method so that I can alter the threshold if I want to be more or less conservative."
   ]
  },
  {
   "cell_type": "code",
   "execution_count": 17,
   "metadata": {},
   "outputs": [],
   "source": [
    "# # instantiate model and fit on training data\n",
    "# final_knn = KNeighborsClassifier(n_neighbors=5, metric='manhattan', weights='distance')\n",
    "# final_knn.fit(X_train_sm, y_train_sm)\n",
    "\n",
    "# # get the predictions and check the accuracy, recall, and f1 scores\n",
    "# y_pred = final_knn.predict(X_test_ready)\n",
    "# knn_accuracy = accuracy_score(y_test, y_pred)\n",
    "# knn_recall = recall_score(y_test, y_pred)\n",
    "# knn_f1 = f1_score(y_test, y_pred)\n",
    "\n",
    "# # print the metrics out\n",
    "# print('Accuracy:', round(knn_accuracy, 4)*100)\n",
    "# print('Recall:', round(knn_recall, 4)*100)\n",
    "# print('F1:', round(knn_f1, 4)*100)\n",
    "\n",
    "# # plot an ROC curve and a confusion matrix"
   ]
  },
  {
   "cell_type": "code",
   "execution_count": 18,
   "metadata": {},
   "outputs": [],
   "source": [
    "# # instantiate model and fit on training data\n",
    "# final_lr = LogisticRegression(max_iter=75, C=0.1, class_weight={0: 1, 1: 1})\n",
    "# final_lr.fit(X_train_sm, y_train_sm)\n",
    "\n",
    "# # get the predictions and check the accuracy, recall, and f1 scores\n",
    "# y_pred = final_lr.predict(X_test_ready)\n",
    "# lr_accuracy = accuracy_score(y_test, y_pred)\n",
    "# lr_recall = recall_score(y_test, y_pred)\n",
    "# lr_f1 = f1_score(y_test, y_pred)\n",
    "\n",
    "# # print the metrics out\n",
    "# print('Accuracy:', round(lr_accuracy, 4)*100)\n",
    "# print('Recall:', round(lr_recall, 4)*100)\n",
    "# print('F1:', round(lr_f1, 4)*100)\n",
    "\n",
    "# # plot an ROC curve and a confusion matrix"
   ]
  },
  {
   "cell_type": "markdown",
   "metadata": {},
   "source": [
    "As we mentioned earlier the real value is going to be on the high interest loans where there is more risk involved. I will seperate the high risk loans from the rest and train the model on those. \n",
    "\n",
    "Looking back at our analysis we saw that loans with a grade of \"D\" or worse had an average interest rate of 18% or more. So if we only included the grade \"D\" and down we'd have a average interest rate of: "
   ]
  },
  {
   "cell_type": "code",
   "execution_count": 19,
   "metadata": {},
   "outputs": [
    {
     "name": "stdout",
     "output_type": "stream",
     "text": [
      "21.032032931174378\n"
     ]
    },
    {
     "data": {
      "text/plain": [
       "0    0.622755\n",
       "1    0.377245\n",
       "Name: loan_status, dtype: float64"
      ]
     },
     "execution_count": 19,
     "metadata": {},
     "output_type": "execute_result"
    }
   ],
   "source": [
    "bad_df = accepted_df[accepted_df.grade.isin(['D', 'E', 'F', 'G'])].copy()\n",
    "print(bad_df['int_rate'].mean())\n",
    "bad_df.loan_status.value_counts(normalize=True)"
   ]
  },
  {
   "cell_type": "markdown",
   "metadata": {},
   "source": [
    "Instead of an average of:"
   ]
  },
  {
   "cell_type": "code",
   "execution_count": 20,
   "metadata": {},
   "outputs": [
    {
     "name": "stdout",
     "output_type": "stream",
     "text": [
      "13.385680636514664\n"
     ]
    },
    {
     "data": {
      "text/plain": [
       "0    0.782096\n",
       "1    0.217904\n",
       "Name: loan_status, dtype: float64"
      ]
     },
     "execution_count": 20,
     "metadata": {},
     "output_type": "execute_result"
    }
   ],
   "source": [
    "print(accepted_df.int_rate.mean())\n",
    "accepted_df.loan_status.value_counts(normalize=True)"
   ]
  },
  {
   "cell_type": "markdown",
   "metadata": {},
   "source": [
    "I'll do the same pre-proccessing that I did earlier."
   ]
  },
  {
   "cell_type": "code",
   "execution_count": 21,
   "metadata": {},
   "outputs": [
    {
     "data": {
      "text/html": [
       "<div>\n",
       "<style scoped>\n",
       "    .dataframe tbody tr th:only-of-type {\n",
       "        vertical-align: middle;\n",
       "    }\n",
       "\n",
       "    .dataframe tbody tr th {\n",
       "        vertical-align: top;\n",
       "    }\n",
       "\n",
       "    .dataframe thead th {\n",
       "        text-align: right;\n",
       "    }\n",
       "</style>\n",
       "<table border=\"1\" class=\"dataframe\">\n",
       "  <thead>\n",
       "    <tr style=\"text-align: right;\">\n",
       "      <th></th>\n",
       "      <th>term</th>\n",
       "      <th>int_rate</th>\n",
       "      <th>grade</th>\n",
       "      <th>dti</th>\n",
       "      <th>loan_status</th>\n",
       "      <th>emp_length</th>\n",
       "      <th>loan_amnt</th>\n",
       "      <th>annual_inc</th>\n",
       "      <th>application_type</th>\n",
       "      <th>home_ownership</th>\n",
       "      <th>date</th>\n",
       "      <th>zip_code</th>\n",
       "    </tr>\n",
       "  </thead>\n",
       "  <tbody>\n",
       "    <tr>\n",
       "      <th>11</th>\n",
       "      <td>1</td>\n",
       "      <td>15.77</td>\n",
       "      <td>0</td>\n",
       "      <td>28.44</td>\n",
       "      <td>0</td>\n",
       "      <td>10</td>\n",
       "      <td>23000.0</td>\n",
       "      <td>54000.0</td>\n",
       "      <td>0</td>\n",
       "      <td>1</td>\n",
       "      <td>2016-01-01</td>\n",
       "      <td>471xx</td>\n",
       "    </tr>\n",
       "    <tr>\n",
       "      <th>18</th>\n",
       "      <td>0</td>\n",
       "      <td>15.77</td>\n",
       "      <td>0</td>\n",
       "      <td>23.29</td>\n",
       "      <td>0</td>\n",
       "      <td>1</td>\n",
       "      <td>11900.0</td>\n",
       "      <td>35000.0</td>\n",
       "      <td>0</td>\n",
       "      <td>3</td>\n",
       "      <td>2016-01-01</td>\n",
       "      <td>114xx</td>\n",
       "    </tr>\n",
       "    <tr>\n",
       "      <th>22</th>\n",
       "      <td>1</td>\n",
       "      <td>18.99</td>\n",
       "      <td>1</td>\n",
       "      <td>14.45</td>\n",
       "      <td>0</td>\n",
       "      <td>4</td>\n",
       "      <td>16800.0</td>\n",
       "      <td>115000.0</td>\n",
       "      <td>0</td>\n",
       "      <td>1</td>\n",
       "      <td>2016-01-01</td>\n",
       "      <td>114xx</td>\n",
       "    </tr>\n",
       "    <tr>\n",
       "      <th>27</th>\n",
       "      <td>1</td>\n",
       "      <td>15.77</td>\n",
       "      <td>0</td>\n",
       "      <td>8.00</td>\n",
       "      <td>0</td>\n",
       "      <td>1</td>\n",
       "      <td>15000.0</td>\n",
       "      <td>75000.0</td>\n",
       "      <td>0</td>\n",
       "      <td>1</td>\n",
       "      <td>2016-01-01</td>\n",
       "      <td>038xx</td>\n",
       "    </tr>\n",
       "    <tr>\n",
       "      <th>30</th>\n",
       "      <td>1</td>\n",
       "      <td>15.77</td>\n",
       "      <td>0</td>\n",
       "      <td>11.33</td>\n",
       "      <td>0</td>\n",
       "      <td>6</td>\n",
       "      <td>19600.0</td>\n",
       "      <td>90000.0</td>\n",
       "      <td>0</td>\n",
       "      <td>3</td>\n",
       "      <td>2016-01-01</td>\n",
       "      <td>721xx</td>\n",
       "    </tr>\n",
       "    <tr>\n",
       "      <th>...</th>\n",
       "      <td>...</td>\n",
       "      <td>...</td>\n",
       "      <td>...</td>\n",
       "      <td>...</td>\n",
       "      <td>...</td>\n",
       "      <td>...</td>\n",
       "      <td>...</td>\n",
       "      <td>...</td>\n",
       "      <td>...</td>\n",
       "      <td>...</td>\n",
       "      <td>...</td>\n",
       "      <td>...</td>\n",
       "    </tr>\n",
       "    <tr>\n",
       "      <th>482718</th>\n",
       "      <td>1</td>\n",
       "      <td>18.94</td>\n",
       "      <td>0</td>\n",
       "      <td>31.15</td>\n",
       "      <td>0</td>\n",
       "      <td>7</td>\n",
       "      <td>15000.0</td>\n",
       "      <td>68000.0</td>\n",
       "      <td>0</td>\n",
       "      <td>1</td>\n",
       "      <td>2018-12-01</td>\n",
       "      <td>255xx</td>\n",
       "    </tr>\n",
       "    <tr>\n",
       "      <th>482731</th>\n",
       "      <td>1</td>\n",
       "      <td>19.92</td>\n",
       "      <td>0</td>\n",
       "      <td>26.89</td>\n",
       "      <td>0</td>\n",
       "      <td>4</td>\n",
       "      <td>16000.0</td>\n",
       "      <td>54000.0</td>\n",
       "      <td>0</td>\n",
       "      <td>3</td>\n",
       "      <td>2018-12-01</td>\n",
       "      <td>275xx</td>\n",
       "    </tr>\n",
       "    <tr>\n",
       "      <th>482732</th>\n",
       "      <td>0</td>\n",
       "      <td>19.92</td>\n",
       "      <td>0</td>\n",
       "      <td>16.80</td>\n",
       "      <td>0</td>\n",
       "      <td>1</td>\n",
       "      <td>14000.0</td>\n",
       "      <td>75000.0</td>\n",
       "      <td>0</td>\n",
       "      <td>3</td>\n",
       "      <td>2018-12-01</td>\n",
       "      <td>334xx</td>\n",
       "    </tr>\n",
       "    <tr>\n",
       "      <th>482733</th>\n",
       "      <td>0</td>\n",
       "      <td>20.89</td>\n",
       "      <td>0</td>\n",
       "      <td>17.19</td>\n",
       "      <td>0</td>\n",
       "      <td>1</td>\n",
       "      <td>12000.0</td>\n",
       "      <td>52000.0</td>\n",
       "      <td>0</td>\n",
       "      <td>1</td>\n",
       "      <td>2018-12-01</td>\n",
       "      <td>928xx</td>\n",
       "    </tr>\n",
       "    <tr>\n",
       "      <th>482753</th>\n",
       "      <td>1</td>\n",
       "      <td>19.92</td>\n",
       "      <td>0</td>\n",
       "      <td>35.49</td>\n",
       "      <td>0</td>\n",
       "      <td>2</td>\n",
       "      <td>10400.0</td>\n",
       "      <td>40000.0</td>\n",
       "      <td>1</td>\n",
       "      <td>3</td>\n",
       "      <td>2018-12-01</td>\n",
       "      <td>117xx</td>\n",
       "    </tr>\n",
       "  </tbody>\n",
       "</table>\n",
       "<p>113388 rows × 12 columns</p>\n",
       "</div>"
      ],
      "text/plain": [
       "        term  int_rate  grade    dti  loan_status  emp_length  loan_amnt  \\\n",
       "11         1     15.77      0  28.44            0          10    23000.0   \n",
       "18         0     15.77      0  23.29            0           1    11900.0   \n",
       "22         1     18.99      1  14.45            0           4    16800.0   \n",
       "27         1     15.77      0   8.00            0           1    15000.0   \n",
       "30         1     15.77      0  11.33            0           6    19600.0   \n",
       "...      ...       ...    ...    ...          ...         ...        ...   \n",
       "482718     1     18.94      0  31.15            0           7    15000.0   \n",
       "482731     1     19.92      0  26.89            0           4    16000.0   \n",
       "482732     0     19.92      0  16.80            0           1    14000.0   \n",
       "482733     0     20.89      0  17.19            0           1    12000.0   \n",
       "482753     1     19.92      0  35.49            0           2    10400.0   \n",
       "\n",
       "        annual_inc  application_type  home_ownership        date zip_code  \n",
       "11         54000.0                 0               1  2016-01-01    471xx  \n",
       "18         35000.0                 0               3  2016-01-01    114xx  \n",
       "22        115000.0                 0               1  2016-01-01    114xx  \n",
       "27         75000.0                 0               1  2016-01-01    038xx  \n",
       "30         90000.0                 0               3  2016-01-01    721xx  \n",
       "...            ...               ...             ...         ...      ...  \n",
       "482718     68000.0                 0               1  2018-12-01    255xx  \n",
       "482731     54000.0                 0               3  2018-12-01    275xx  \n",
       "482732     75000.0                 0               3  2018-12-01    334xx  \n",
       "482733     52000.0                 0               1  2018-12-01    928xx  \n",
       "482753     40000.0                 1               3  2018-12-01    117xx  \n",
       "\n",
       "[113388 rows x 12 columns]"
      ]
     },
     "execution_count": 21,
     "metadata": {},
     "output_type": "execute_result"
    }
   ],
   "source": [
    "# use the same label encoder and transform the categorical features\n",
    "bad_df['application_type'] = le.fit_transform(bad_df['application_type'])\n",
    "bad_df['term'] = le.fit_transform(bad_df['term'])\n",
    "bad_df['grade'] = le.fit_transform(bad_df['grade'])\n",
    "bad_df['home_ownership'] = le.fit_transform(bad_df['home_ownership'])\n",
    "bad_df['emp_length'] = le.fit_transform(bad_df['emp_length'])\n",
    "bad_df"
   ]
  },
  {
   "cell_type": "code",
   "execution_count": 22,
   "metadata": {},
   "outputs": [],
   "source": [
    "# split the data into a training set and testing set.\n",
    "# I won't be using the date or zip_codes for the training.\n",
    "bad_X = bad_df.drop(['loan_status', 'date', 'zip_code'],axis=1).copy()\n",
    "bad_y = bad_df['loan_status'].copy()\n",
    "X_train2, X_test2, y_train2, y_test2 = train_test_split(bad_X, bad_y, test_size=0.15, random_state=42)"
   ]
  },
  {
   "cell_type": "code",
   "execution_count": 23,
   "metadata": {},
   "outputs": [
    {
     "name": "stdout",
     "output_type": "stream",
     "text": [
      "<class 'pandas.core.frame.DataFrame'>\n",
      "Int64Index: 96379 entries, 102944 to 75657\n",
      "Data columns (total 9 columns):\n",
      " #   Column            Non-Null Count  Dtype  \n",
      "---  ------            --------------  -----  \n",
      " 0   term              96379 non-null  int32  \n",
      " 1   int_rate          96379 non-null  float64\n",
      " 2   grade             96379 non-null  int32  \n",
      " 3   dti               96379 non-null  float64\n",
      " 4   emp_length        96379 non-null  int32  \n",
      " 5   loan_amnt         96379 non-null  float64\n",
      " 6   annual_inc        96379 non-null  float64\n",
      " 7   application_type  96379 non-null  int32  \n",
      " 8   home_ownership    96379 non-null  int32  \n",
      "dtypes: float64(4), int32(5)\n",
      "memory usage: 5.5 MB\n"
     ]
    }
   ],
   "source": [
    "X_train2.info()"
   ]
  },
  {
   "cell_type": "code",
   "execution_count": 24,
   "metadata": {},
   "outputs": [],
   "source": [
    "# seperate the numerical and categorical columns for training and testing data so that I can scale the numerical\n",
    "# and then concatenate them.\n",
    "# reset the index for smoothe concatenation\n",
    "num_train2 = X_train2.select_dtypes(include='float64').reset_index(drop=True)\n",
    "num_test2 = X_test2.select_dtypes(include='float64').reset_index(drop=True)\n",
    "cat_train2 = X_train2.select_dtypes(include='int32').reset_index(drop=True)\n",
    "cat_test2 = X_test2.select_dtypes(include='int32').reset_index(drop=True)\n",
    "\n",
    "# fit and transform the scaler on training and testing data\n",
    "sc_num_train2 = sc.fit_transform(num_train2)\n",
    "sc_num_test2 = sc.transform(num_test2)\n",
    "# put the scaled data back into a dataframe\n",
    "sc_train_df2 = pd.DataFrame(sc_num_train2, columns=num_train2.columns)\n",
    "sc_test_df2 = pd.DataFrame(sc_num_test2, columns=num_test2.columns)\n",
    "\n",
    "# concatenate back together\n",
    "X_train_ready2 = pd.concat([sc_train_df2, cat_train2], axis=1)\n",
    "X_test_ready2 = pd.concat([sc_test_df2, cat_test2], axis=1)"
   ]
  },
  {
   "cell_type": "code",
   "execution_count": 25,
   "metadata": {},
   "outputs": [
    {
     "data": {
      "text/plain": [
       "0.6577871682271385"
      ]
     },
     "execution_count": 25,
     "metadata": {},
     "output_type": "execute_result"
    },
    {
     "data": {
      "image/png": "[encoded data removed]",
      "text/plain": [
       "<Figure size 432x288 with 2 Axes>"
      ]
     },
     "metadata": {
      "needs_background": "light"
     },
     "output_type": "display_data"
    }
   ],
   "source": [
    "# heres another dummy classifier\n",
    "dummy = DummyClassifier(strategy=\"stratified\", random_state=42)\n",
    "dummy.fit(X_train_ready, y_train)\n",
    "plot_confusion_matrix(dummy, X_test_ready, y_test)\n",
    "dummy.score(X_test_ready, y_test)"
   ]
  },
  {
   "cell_type": "code",
   "execution_count": 26,
   "metadata": {},
   "outputs": [
    {
     "name": "stdout",
     "output_type": "stream",
     "text": [
      "Best class_weight: {0: 1, 1: 1}, Best 'C': 0.1, Best 'max_iter': 75\n",
      "\n",
      "Training accuracy: 63.519999999999996\n",
      "Mean Cross-Validation accuracy: 63.51\n",
      "Testing accuracy: 63.36000000000001\n",
      "\n",
      "(This cell takes 31 seconds to run)\n"
     ]
    },
    {
     "data": {
      "image/png": "[encoded data removed]",
      "text/plain": [
       "<Figure size 432x288 with 2 Axes>"
      ]
     },
     "metadata": {
      "needs_background": "light"
     },
     "output_type": "display_data"
    }
   ],
   "source": [
    "cell_start = time.time()\n",
    "logreg(X_train_ready2, X_test_ready2, y_train2, y_test2)\n",
    "print(\"\")\n",
    "print(f'(This cell takes {int(time.time() - cell_start)} seconds to run)')"
   ]
  },
  {
   "cell_type": "code",
   "execution_count": 27,
   "metadata": {},
   "outputs": [
    {
     "name": "stdout",
     "output_type": "stream",
     "text": [
      "Best 'n_neighbors': 13, Best 'metric': minkowski,          Best 'weights': uniform\n",
      "\n",
      "Training accuracy: 67.34\n",
      "Mean Cross-Validation accuracy: 60.540000000000006\n",
      "Testing accuracy: 60.629999999999995\n",
      "\n",
      "(This cell takes 150 seconds to run)\n"
     ]
    },
    {
     "data": {
      "image/png": "[encoded data removed]",
      "text/plain": [
       "<Figure size 432x288 with 2 Axes>"
      ]
     },
     "metadata": {
      "needs_background": "light"
     },
     "output_type": "display_data"
    }
   ],
   "source": [
    "cell_start = time.time()\n",
    "knn(X_train_ready2, X_test_ready2, y_train2, y_test2)\n",
    "print(\"\")\n",
    "print(f'(This cell takes {int(time.time() - cell_start)} seconds to run)')"
   ]
  },
  {
   "cell_type": "code",
   "execution_count": 28,
   "metadata": {},
   "outputs": [
    {
     "name": "stdout",
     "output_type": "stream",
     "text": [
      "Best 'n_estimators': 125, Best 'max_depth': 15,                       Best 'min_samples_split': 2\n",
      "\n",
      "Training accuracy: 77.28\n",
      "Mean Cross-Validation accuracy: 63.27\n",
      "Testing accuracy: 62.96000000000001\n",
      "\n",
      "(This cell takes 381 seconds to run)\n"
     ]
    },
    {
     "data": {
      "image/png": "[encoded data removed]",
      "text/plain": [
       "<Figure size 432x288 with 2 Axes>"
      ]
     },
     "metadata": {
      "needs_background": "light"
     },
     "output_type": "display_data"
    }
   ],
   "source": [
    "cell_start = time.time()\n",
    "random_forest(X_train_ready2, X_test_ready2, y_train2, y_test2)\n",
    "print(\"\")\n",
    "print(f'(This cell takes {int(time.time() - cell_start)} seconds to run)')"
   ]
  },
  {
   "cell_type": "code",
   "execution_count": null,
   "metadata": {},
   "outputs": [],
   "source": []
  },
  {
   "cell_type": "code",
   "execution_count": 29,
   "metadata": {},
   "outputs": [
    {
     "name": "stdout",
     "output_type": "stream",
     "text": [
      "This notebook takes 4257 seconds to run\n"
     ]
    }
   ],
   "source": [
    "notebook_end = time.time()\n",
    "print(f'This notebook takes {int(notebook_end - notebook_start)} seconds to run')"
   ]
  },
  {
   "cell_type": "code",
   "execution_count": null,
   "metadata": {},
   "outputs": [],
   "source": []
  }
 ],
 "metadata": {
  "kernelspec": {
   "display_name": "Python (learn-env)",
   "language": "python",
   "name": "learn-env"
  },
  "language_info": {
   "codemirror_mode": {
    "name": "ipython",
    "version": 3
   },
   "file_extension": ".py",
   "mimetype": "text/x-python",
   "name": "python",
   "nbconvert_exporter": "python",
   "pygments_lexer": "ipython3",
   "version": "3.8.5"
  }
 },
 "nbformat": 4,
 "nbformat_minor": 4
}
