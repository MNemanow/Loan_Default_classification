{
 "cells": [
  {
   "cell_type": "code",
   "execution_count": 1,
   "metadata": {},
   "outputs": [],
   "source": [
    "import time\n",
    "notebook_start = time.time()\n",
    "import pandas as pd\n",
    "import numpy as np\n",
    "import matplotlib.pyplot as plt\n",
    "import seaborn as sns\n",
    "%matplotlib inline\n",
    "\n",
    "from statsmodels.stats.outliers_influence import variance_inflation_factor\n",
    "import statsmodels.api as sm\n",
    "\n",
    "from sklearn.preprocessing import StandardScaler, MinMaxScaler, OneHotEncoder, LabelEncoder\n",
    "from sklearn.model_selection import train_test_split, cross_val_score, GridSearchCV\n",
    "from sklearn.dummy import DummyClassifier\n",
    "from sklearn.linear_model import LogisticRegression\n",
    "from sklearn.ensemble import RandomForestClassifier\n",
    "from sklearn.metrics import plot_confusion_matrix, plot_roc_curve, accuracy_score, recall_score, precision_score, f1_score"
   ]
  },
  {
   "cell_type": "code",
   "execution_count": 2,
   "metadata": {},
   "outputs": [
    {
     "data": {
      "text/plain": [
       "term                0\n",
       "int_rate            0\n",
       "grade               0\n",
       "dti                 0\n",
       "loan_status         0\n",
       "emp_length          0\n",
       "annual_inc          0\n",
       "application_type    0\n",
       "home_ownership      0\n",
       "issue_d             0\n",
       "zip_code            0\n",
       "dtype: int64"
      ]
     },
     "execution_count": 2,
     "metadata": {},
     "output_type": "execute_result"
    }
   ],
   "source": [
    "pd.set_option('display.max_colwidth', None)\n",
    "# download a dataset with a description of each column\n",
    "feat_def = pd.read_excel('https://resources.lendingclub.com/LCDataDictionary.xlsx')\n",
    "\n",
    "accepted_df = pd.read_csv('data/accepted_16_to_18.csv')\n",
    "accepted_df.isna().sum()"
   ]
  },
  {
   "cell_type": "code",
   "execution_count": 3,
   "metadata": {},
   "outputs": [],
   "source": [
    "# # drop the rows from the definition dataframe with definitions of columns we dropped\n",
    "# for i in feat_def.index:\n",
    "#     if feat_def.LoanStatNew[i] not in accepted_df.columns:\n",
    "#         feat_def.drop(i, inplace=True)\n",
    "# feat_def"
   ]
  },
  {
   "cell_type": "markdown",
   "metadata": {},
   "source": [
    "Based on the descriptions of features, I'm gonna choose some columns to keep now and iteratively work my way up from there."
   ]
  },
  {
   "cell_type": "code",
   "execution_count": 4,
   "metadata": {},
   "outputs": [],
   "source": [
    "# keep_list=['term', 'int_rate', 'grade', 'dti','loan_status', 'emp_length', \n",
    "#            'annual_inc', 'application_type','home_ownership']\n",
    "\n",
    "# fsm_df = accepted_df[keep_list].copy()\n",
    "# fsm_df"
   ]
  },
  {
   "cell_type": "code",
   "execution_count": 5,
   "metadata": {},
   "outputs": [
    {
     "name": "stdout",
     "output_type": "stream",
     "text": [
      "<class 'pandas.core.frame.DataFrame'>\n",
      "RangeIndex: 482754 entries, 0 to 482753\n",
      "Data columns (total 11 columns):\n",
      " #   Column            Non-Null Count   Dtype  \n",
      "---  ------            --------------   -----  \n",
      " 0   term              482754 non-null  object \n",
      " 1   int_rate          482754 non-null  float64\n",
      " 2   grade             482754 non-null  object \n",
      " 3   dti               482754 non-null  float64\n",
      " 4   loan_status       482754 non-null  int64  \n",
      " 5   emp_length        482754 non-null  object \n",
      " 6   annual_inc        482754 non-null  float64\n",
      " 7   application_type  482754 non-null  object \n",
      " 8   home_ownership    482754 non-null  object \n",
      " 9   issue_d           482754 non-null  object \n",
      " 10  zip_code          482754 non-null  object \n",
      "dtypes: float64(3), int64(1), object(7)\n",
      "memory usage: 40.5+ MB\n"
     ]
    }
   ],
   "source": [
    "accepted_df.info()"
   ]
  },
  {
   "cell_type": "markdown",
   "metadata": {},
   "source": [
    "The features that have binary columns I will just convert to a 1 or 0 manually, so that I know which 1 is which value. I will also do the emp_lenght manually. For the other features I will use a label encoder."
   ]
  },
  {
   "cell_type": "code",
   "execution_count": 6,
   "metadata": {},
   "outputs": [],
   "source": [
    "accepted_df['application_type'] = accepted_df['application_type'].map({'Individual': 0, 'Joint App': 1})\n",
    "accepted_df['term'] = accepted_df['term'].map({' 36 months': 0, ' 60 months': 1})"
   ]
  },
  {
   "cell_type": "code",
   "execution_count": 7,
   "metadata": {},
   "outputs": [],
   "source": [
    "# fsm_df.emp_length.value_counts()"
   ]
  },
  {
   "cell_type": "code",
   "execution_count": 8,
   "metadata": {},
   "outputs": [],
   "source": [
    "# emp_length_to_int={'< 1 year':0,\n",
    "#                       '1 year':1,\n",
    "#                      '2 years':2,\n",
    "#                      '3 years':3,\n",
    "#                      '4 years':4,\n",
    "#                      '5 years':5,\n",
    "#                      '6 years':6,\n",
    "#                      '7 years':7,\n",
    "#                      '8 years':8,\n",
    "#                      '9 years':9,\n",
    "#                      '10+ years':10}\n",
    "# fsm_df['emp_length'] = fsm_df['emp_length'].map(emp_length_to_int)"
   ]
  },
  {
   "cell_type": "code",
   "execution_count": 9,
   "metadata": {},
   "outputs": [
    {
     "data": {
      "text/html": [
       "<div>\n",
       "<style scoped>\n",
       "    .dataframe tbody tr th:only-of-type {\n",
       "        vertical-align: middle;\n",
       "    }\n",
       "\n",
       "    .dataframe tbody tr th {\n",
       "        vertical-align: top;\n",
       "    }\n",
       "\n",
       "    .dataframe thead th {\n",
       "        text-align: right;\n",
       "    }\n",
       "</style>\n",
       "<table border=\"1\" class=\"dataframe\">\n",
       "  <thead>\n",
       "    <tr style=\"text-align: right;\">\n",
       "      <th></th>\n",
       "      <th>term</th>\n",
       "      <th>int_rate</th>\n",
       "      <th>grade</th>\n",
       "      <th>dti</th>\n",
       "      <th>loan_status</th>\n",
       "      <th>emp_length</th>\n",
       "      <th>annual_inc</th>\n",
       "      <th>application_type</th>\n",
       "      <th>home_ownership</th>\n",
       "      <th>issue_d</th>\n",
       "      <th>zip_code</th>\n",
       "    </tr>\n",
       "  </thead>\n",
       "  <tbody>\n",
       "    <tr>\n",
       "      <th>0</th>\n",
       "      <td>0</td>\n",
       "      <td>11.22</td>\n",
       "      <td>1</td>\n",
       "      <td>3.10</td>\n",
       "      <td>0</td>\n",
       "      <td>7</td>\n",
       "      <td>65000.0</td>\n",
       "      <td>0</td>\n",
       "      <td>1</td>\n",
       "      <td>2016-01-01</td>\n",
       "      <td>201xx</td>\n",
       "    </tr>\n",
       "    <tr>\n",
       "      <th>1</th>\n",
       "      <td>0</td>\n",
       "      <td>9.17</td>\n",
       "      <td>1</td>\n",
       "      <td>20.30</td>\n",
       "      <td>0</td>\n",
       "      <td>1</td>\n",
       "      <td>82400.0</td>\n",
       "      <td>0</td>\n",
       "      <td>1</td>\n",
       "      <td>2016-01-01</td>\n",
       "      <td>146xx</td>\n",
       "    </tr>\n",
       "    <tr>\n",
       "      <th>2</th>\n",
       "      <td>0</td>\n",
       "      <td>5.32</td>\n",
       "      <td>0</td>\n",
       "      <td>7.43</td>\n",
       "      <td>0</td>\n",
       "      <td>9</td>\n",
       "      <td>200000.0</td>\n",
       "      <td>0</td>\n",
       "      <td>3</td>\n",
       "      <td>2016-01-01</td>\n",
       "      <td>208xx</td>\n",
       "    </tr>\n",
       "    <tr>\n",
       "      <th>3</th>\n",
       "      <td>0</td>\n",
       "      <td>10.78</td>\n",
       "      <td>1</td>\n",
       "      <td>2.75</td>\n",
       "      <td>0</td>\n",
       "      <td>6</td>\n",
       "      <td>85000.0</td>\n",
       "      <td>0</td>\n",
       "      <td>4</td>\n",
       "      <td>2016-01-01</td>\n",
       "      <td>908xx</td>\n",
       "    </tr>\n",
       "    <tr>\n",
       "      <th>4</th>\n",
       "      <td>0</td>\n",
       "      <td>12.88</td>\n",
       "      <td>2</td>\n",
       "      <td>8.07</td>\n",
       "      <td>1</td>\n",
       "      <td>10</td>\n",
       "      <td>16800.0</td>\n",
       "      <td>0</td>\n",
       "      <td>4</td>\n",
       "      <td>2016-01-01</td>\n",
       "      <td>294xx</td>\n",
       "    </tr>\n",
       "    <tr>\n",
       "      <th>...</th>\n",
       "      <td>...</td>\n",
       "      <td>...</td>\n",
       "      <td>...</td>\n",
       "      <td>...</td>\n",
       "      <td>...</td>\n",
       "      <td>...</td>\n",
       "      <td>...</td>\n",
       "      <td>...</td>\n",
       "      <td>...</td>\n",
       "      <td>...</td>\n",
       "      <td>...</td>\n",
       "    </tr>\n",
       "    <tr>\n",
       "      <th>482749</th>\n",
       "      <td>0</td>\n",
       "      <td>14.47</td>\n",
       "      <td>2</td>\n",
       "      <td>23.76</td>\n",
       "      <td>0</td>\n",
       "      <td>1</td>\n",
       "      <td>76000.0</td>\n",
       "      <td>0</td>\n",
       "      <td>1</td>\n",
       "      <td>2018-12-01</td>\n",
       "      <td>483xx</td>\n",
       "    </tr>\n",
       "    <tr>\n",
       "      <th>482750</th>\n",
       "      <td>0</td>\n",
       "      <td>12.98</td>\n",
       "      <td>1</td>\n",
       "      <td>26.50</td>\n",
       "      <td>0</td>\n",
       "      <td>1</td>\n",
       "      <td>75000.0</td>\n",
       "      <td>0</td>\n",
       "      <td>4</td>\n",
       "      <td>2018-12-01</td>\n",
       "      <td>917xx</td>\n",
       "    </tr>\n",
       "    <tr>\n",
       "      <th>482751</th>\n",
       "      <td>0</td>\n",
       "      <td>7.02</td>\n",
       "      <td>0</td>\n",
       "      <td>16.38</td>\n",
       "      <td>0</td>\n",
       "      <td>10</td>\n",
       "      <td>97000.0</td>\n",
       "      <td>0</td>\n",
       "      <td>4</td>\n",
       "      <td>2018-12-01</td>\n",
       "      <td>801xx</td>\n",
       "    </tr>\n",
       "    <tr>\n",
       "      <th>482752</th>\n",
       "      <td>0</td>\n",
       "      <td>15.02</td>\n",
       "      <td>2</td>\n",
       "      <td>11.64</td>\n",
       "      <td>0</td>\n",
       "      <td>10</td>\n",
       "      <td>66000.0</td>\n",
       "      <td>0</td>\n",
       "      <td>3</td>\n",
       "      <td>2018-12-01</td>\n",
       "      <td>452xx</td>\n",
       "    </tr>\n",
       "    <tr>\n",
       "      <th>482753</th>\n",
       "      <td>1</td>\n",
       "      <td>19.92</td>\n",
       "      <td>3</td>\n",
       "      <td>35.49</td>\n",
       "      <td>0</td>\n",
       "      <td>2</td>\n",
       "      <td>40000.0</td>\n",
       "      <td>1</td>\n",
       "      <td>4</td>\n",
       "      <td>2018-12-01</td>\n",
       "      <td>117xx</td>\n",
       "    </tr>\n",
       "  </tbody>\n",
       "</table>\n",
       "<p>482754 rows × 11 columns</p>\n",
       "</div>"
      ],
      "text/plain": [
       "        term  int_rate  grade    dti  loan_status  emp_length  annual_inc  \\\n",
       "0          0     11.22      1   3.10            0           7     65000.0   \n",
       "1          0      9.17      1  20.30            0           1     82400.0   \n",
       "2          0      5.32      0   7.43            0           9    200000.0   \n",
       "3          0     10.78      1   2.75            0           6     85000.0   \n",
       "4          0     12.88      2   8.07            1          10     16800.0   \n",
       "...      ...       ...    ...    ...          ...         ...         ...   \n",
       "482749     0     14.47      2  23.76            0           1     76000.0   \n",
       "482750     0     12.98      1  26.50            0           1     75000.0   \n",
       "482751     0      7.02      0  16.38            0          10     97000.0   \n",
       "482752     0     15.02      2  11.64            0          10     66000.0   \n",
       "482753     1     19.92      3  35.49            0           2     40000.0   \n",
       "\n",
       "        application_type  home_ownership     issue_d zip_code  \n",
       "0                      0               1  2016-01-01    201xx  \n",
       "1                      0               1  2016-01-01    146xx  \n",
       "2                      0               3  2016-01-01    208xx  \n",
       "3                      0               4  2016-01-01    908xx  \n",
       "4                      0               4  2016-01-01    294xx  \n",
       "...                  ...             ...         ...      ...  \n",
       "482749                 0               1  2018-12-01    483xx  \n",
       "482750                 0               4  2018-12-01    917xx  \n",
       "482751                 0               4  2018-12-01    801xx  \n",
       "482752                 0               3  2018-12-01    452xx  \n",
       "482753                 1               4  2018-12-01    117xx  \n",
       "\n",
       "[482754 rows x 11 columns]"
      ]
     },
     "execution_count": 9,
     "metadata": {},
     "output_type": "execute_result"
    }
   ],
   "source": [
    "le = LabelEncoder()\n",
    "accepted_df['application_type'] = le.fit_transform(accepted_df['application_type'])\n",
    "accepted_df['term'] = le.fit_transform(accepted_df['term'])\n",
    "accepted_df['grade'] = le.fit_transform(accepted_df['grade'])\n",
    "accepted_df['home_ownership'] = le.fit_transform(accepted_df['home_ownership'])\n",
    "accepted_df['emp_length'] = le.fit_transform(accepted_df['emp_length'])\n",
    "accepted_df"
   ]
  },
  {
   "cell_type": "code",
   "execution_count": 10,
   "metadata": {},
   "outputs": [
    {
     "data": {
      "text/plain": [
       "term                0\n",
       "int_rate            0\n",
       "grade               0\n",
       "dti                 0\n",
       "loan_status         0\n",
       "emp_length          0\n",
       "annual_inc          0\n",
       "application_type    0\n",
       "home_ownership      0\n",
       "issue_d             0\n",
       "zip_code            0\n",
       "dtype: int64"
      ]
     },
     "execution_count": 10,
     "metadata": {},
     "output_type": "execute_result"
    }
   ],
   "source": [
    "accepted_df.isna().sum()"
   ]
  },
  {
   "cell_type": "code",
   "execution_count": 11,
   "metadata": {},
   "outputs": [],
   "source": [
    "X = accepted_df.drop(['loan_status', 'issue_d', 'zip_code'],axis=1)\n",
    "y = accepted_df['loan_status']\n",
    "X_train, X_test, y_train, y_test = train_test_split(X, y, test_size=0.15, random_state=42)"
   ]
  },
  {
   "cell_type": "markdown",
   "metadata": {},
   "source": [
    "Using a MinMax scaler because with the Standard scaler I would get Line search warning."
   ]
  },
  {
   "cell_type": "code",
   "execution_count": 12,
   "metadata": {},
   "outputs": [],
   "source": [
    "minmax = MinMaxScaler()\n",
    "X_train_sc = minmax.fit_transform(X_train)\n",
    "X_test_sc = minmax.transform(X_test)"
   ]
  },
  {
   "cell_type": "markdown",
   "metadata": {},
   "source": [
    "Here's a baseline model to compare the rest of our models to."
   ]
  },
  {
   "cell_type": "code",
   "execution_count": 13,
   "metadata": {},
   "outputs": [
    {
     "data": {
      "text/plain": [
       "0.6601485900516475"
      ]
     },
     "execution_count": 13,
     "metadata": {},
     "output_type": "execute_result"
    },
    {
     "data": {
      "image/png": "[encoded data removed]",
      "text/plain": [
       "<Figure size 432x288 with 2 Axes>"
      ]
     },
     "metadata": {
      "needs_background": "light"
     },
     "output_type": "display_data"
    }
   ],
   "source": [
    "dummy = DummyClassifier(strategy='stratified')\n",
    "dummy.fit(X_train_sc, y_train)\n",
    "plot_confusion_matrix(dummy, X_test_sc, y_test)\n",
    "dummy.score(X_test_sc, y_test)"
   ]
  },
  {
   "cell_type": "markdown",
   "metadata": {},
   "source": [
    "Now I'll run a logistic regression in a grid search and cross validate. I hope to iteratively improve the performance of our models.\n",
    "\n",
    "Prioritizing the \"Recall\" score in the grid search because we wanna avoid the loans that charged off."
   ]
  },
  {
   "cell_type": "code",
   "execution_count": 14,
   "metadata": {},
   "outputs": [
    {
     "data": {
      "text/plain": [
       "term                0\n",
       "int_rate            0\n",
       "grade               0\n",
       "dti                 0\n",
       "emp_length          0\n",
       "annual_inc          0\n",
       "application_type    0\n",
       "home_ownership      0\n",
       "dtype: int64"
      ]
     },
     "execution_count": 14,
     "metadata": {},
     "output_type": "execute_result"
    }
   ],
   "source": [
    "X_train.isna().sum()"
   ]
  },
  {
   "cell_type": "code",
   "execution_count": 57,
   "metadata": {},
   "outputs": [],
   "source": [
    "def logreg(X_train, X_test, y_train, y_test, cv=5):\n",
    "    \n",
    "    # Set GridSearchCV hyperparameters to compare & select\n",
    "    grid = {\n",
    "    'C': [0.01, 0.1, 1, 10]\n",
    "#     'class_weights': [{0:100,1:1}, {0:10,1:1}, {0:1,1:1}, {0:1,1:10}, {0:1,1:100}]\n",
    "    }\n",
    "    \n",
    "    # Instantiate & fit LogReg model for GridSearch\n",
    "    grid_logreg = LogisticRegression(solver='newton-cg', random_state=42)\n",
    "    # Instantiate & fit GridSearchCV with accuracy scoring\n",
    "    gs = GridSearchCV(estimator=grid_logreg, param_grid=grid, cv=cv, scoring='recall')\n",
    "    gs.fit(X_train, y_train)\n",
    "    print(gs.best_params_)\n",
    "    # Create prediction variable using test data\n",
    "    y_pred = gs.predict(X_test)\n",
    "    # Run cross-validate score with cv folds from function parameter\n",
    "    cv_results = cross_val_score(gs, X_train, y_train, cv=cv)\n",
    "    print(f'Mean Cross-Val Score: {cv_results.mean()}')\n",
    "    # Run and print accuracy, recall, precision and f1 scores\n",
    "    train_score = gs.score(X_train, y_train)\n",
    "    print(f'Train Mean Accuracy: {train_score}')\n",
    "    test_score = gs.score(X_test, y_test)\n",
    "    print(f'Accuracy Score: {test_score}')\n",
    "    rec_score = recall_score(y_test, y_pred)\n",
    "    print(f'Recall Score: {rec_score}')\n",
    "    prec_score = precision_score(y_test, y_pred)\n",
    "    print(f'Precision Score: {prec_score}')\n",
    "    f1 = f1_score(y_test, y_pred)\n",
    "    print(f'F1 Score: {f1}')\n",
    "    # Plot an ROC curve (only works with binary data)\n",
    "    fig, ax = plt.subplots()\n",
    "    plot_roc_curve(gs, X_train, y_train, name='train', ax=ax)\n",
    "    plot_roc_curve(gs, X_test, y_test, name='test', ax=ax)\n",
    "    # Plot Confusion Matrix\n",
    "    plot_confusion_matrix(gs, X_train, y_train)\n",
    "    plot_confusion_matrix(gs, X_test, y_test)"
   ]
  },
  {
   "cell_type": "code",
   "execution_count": 58,
   "metadata": {
    "scrolled": false
   },
   "outputs": [
    {
     "name": "stdout",
     "output_type": "stream",
     "text": [
      "{'C': 0.1}\n"
     ]
    },
    {
     "name": "stderr",
     "output_type": "stream",
     "text": [
      "C:\\Users\\mmnem\\anaconda3\\envs\\learn-env\\lib\\site-packages\\scipy\\optimize\\linesearch.py:327: LineSearchWarning: The line search algorithm did not converge\n",
      "  warn('The line search algorithm did not converge', LineSearchWarning)\n",
      "C:\\Users\\mmnem\\anaconda3\\envs\\learn-env\\lib\\site-packages\\sklearn\\utils\\optimize.py:204: UserWarning: Line Search failed\n",
      "  warnings.warn('Line Search failed')\n",
      "C:\\Users\\mmnem\\anaconda3\\envs\\learn-env\\lib\\site-packages\\scipy\\optimize\\linesearch.py:327: LineSearchWarning: The line search algorithm did not converge\n",
      "  warn('The line search algorithm did not converge', LineSearchWarning)\n",
      "C:\\Users\\mmnem\\anaconda3\\envs\\learn-env\\lib\\site-packages\\sklearn\\utils\\optimize.py:204: UserWarning: Line Search failed\n",
      "  warnings.warn('Line Search failed')\n"
     ]
    },
    {
     "name": "stdout",
     "output_type": "stream",
     "text": [
      "Mean Cross-Val Score: 0.09904296410281468\n",
      "Train Mean Accuracy: 0.09894210726852994\n",
      "Accuracy Score: 0.10025062656641603\n",
      "Recall Score: 0.10025062656641603\n",
      "Precision Score: 0.525279054497702\n",
      "F1 Score: 0.16836788382616016\n"
     ]
    },
    {
     "data": {
      "image/png": "[encoded data removed]",
      "text/plain": [
       "<Figure size 432x288 with 1 Axes>"
      ]
     },
     "metadata": {
      "needs_background": "light"
     },
     "output_type": "display_data"
    },
    {
     "data": {
      "image/png": "[encoded data removed]",
      "text/plain": [
       "<Figure size 432x288 with 2 Axes>"
      ]
     },
     "metadata": {
      "needs_background": "light"
     },
     "output_type": "display_data"
    },
    {
     "data": {
      "image/png": "[encoded data removed]",
      "text/plain": [
       "<Figure size 432x288 with 2 Axes>"
      ]
     },
     "metadata": {
      "needs_background": "light"
     },
     "output_type": "display_data"
    }
   ],
   "source": [
    "logreg(X_train_sc, X_test_sc, y_train, y_test)"
   ]
  },
  {
   "cell_type": "code",
   "execution_count": 17,
   "metadata": {
    "scrolled": true
   },
   "outputs": [
    {
     "name": "stdout",
     "output_type": "stream",
     "text": [
      "This notebook takes 486.0 seconds to run\n"
     ]
    }
   ],
   "source": [
    "notebook_end = time.time()\n",
    "print(f'This notebook takes {round(notebook_end - notebook_start, 0)} seconds to run')"
   ]
  },
  {
   "cell_type": "code",
   "execution_count": 59,
   "metadata": {},
   "outputs": [
    {
     "data": {
      "text/plain": [
       "LogisticRegression(C=0.01, random_state=42, solver='newton-cg')"
      ]
     },
     "execution_count": 59,
     "metadata": {},
     "output_type": "execute_result"
    }
   ],
   "source": [
    "lr=LogisticRegression(penalty='l2',C=0.01,solver='newton-cg', random_state=42)\n",
    "lr.fit(X_train_sc,y_train)"
   ]
  },
  {
   "cell_type": "code",
   "execution_count": 60,
   "metadata": {},
   "outputs": [
    {
     "name": "stdout",
     "output_type": "stream",
     "text": [
      "Accuracy of Regularized Logistic Regression is: 78.14\n",
      "Recall of Regularized Logistic Regression is: 52.17\n"
     ]
    },
    {
     "data": {
      "image/png": "[encoded data removed]",
      "text/plain": [
       "<Figure size 432x288 with 2 Axes>"
      ]
     },
     "metadata": {
      "needs_background": "light"
     },
     "output_type": "display_data"
    }
   ],
   "source": [
    "pred_lr = lr.predict(X_test_sc)\n",
    "accuracy_lr= accuracy_score(pred_lr,y_test)*100\n",
    "recall_lr = recall_score(pred_lr,y_test)*100\n",
    "print('Accuracy of Regularized Logistic Regression is: {:.2f}'.format(accuracy_lr))\n",
    "print('Recall of Regularized Logistic Regression is: {:.2f}'.format(recall_lr))\n",
    "plot_confusion_matrix(lr, X_test_sc, y_test);"
   ]
  },
  {
   "cell_type": "code",
   "execution_count": 61,
   "metadata": {},
   "outputs": [
    {
     "data": {
      "text/plain": [
       "RandomForestClassifier(max_depth=6, random_state=42)"
      ]
     },
     "execution_count": 61,
     "metadata": {},
     "output_type": "execute_result"
    }
   ],
   "source": [
    "rf = RandomForestClassifier(max_depth=6, random_state=42)\n",
    "rf.fit(X_train_sc,y_train)"
   ]
  },
  {
   "cell_type": "code",
   "execution_count": 62,
   "metadata": {},
   "outputs": [
    {
     "name": "stdout",
     "output_type": "stream",
     "text": [
      "Accuracy of Regularized Random Forest is: 78.14\n",
      "Recall of Regularized Random Forest is: 59.38\n"
     ]
    },
    {
     "data": {
      "image/png": "[encoded data removed]",
      "text/plain": [
       "<Figure size 432x288 with 2 Axes>"
      ]
     },
     "metadata": {
      "needs_background": "light"
     },
     "output_type": "display_data"
    }
   ],
   "source": [
    "pred_rf = rf.predict(X_test_sc)\n",
    "accuracy_rf= accuracy_score(pred_rf,y_test)*100\n",
    "recall_rf = recall_score(pred_rf,y_test)*100\n",
    "print('Accuracy of Regularized Random Forest is: {:.2f}'.format(accuracy_rf))\n",
    "print('Recall of Regularized Random Forest is: {:.2f}'.format(recall_rf))\n",
    "plot_confusion_matrix(rf, X_test_sc, y_test);"
   ]
  },
  {
   "cell_type": "code",
   "execution_count": 63,
   "metadata": {},
   "outputs": [
    {
     "data": {
      "text/plain": [
       "0.02619047619047619"
      ]
     },
     "execution_count": 63,
     "metadata": {},
     "output_type": "execute_result"
    }
   ],
   "source": [
    "precision_score(pred_rf, y_test)"
   ]
  },
  {
   "cell_type": "code",
   "execution_count": null,
   "metadata": {},
   "outputs": [],
   "source": []
  }
 ],
 "metadata": {
  "kernelspec": {
   "display_name": "Python (learn-env)",
   "language": "python",
   "name": "learn-env"
  },
  "language_info": {
   "codemirror_mode": {
    "name": "ipython",
    "version": 3
   },
   "file_extension": ".py",
   "mimetype": "text/x-python",
   "name": "python",
   "nbconvert_exporter": "python",
   "pygments_lexer": "ipython3",
   "version": "3.8.5"
  }
 },
 "nbformat": 4,
 "nbformat_minor": 4
}
