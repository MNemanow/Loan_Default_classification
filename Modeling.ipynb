{
 "cells": [
  {
   "cell_type": "code",
   "execution_count": 93,
   "metadata": {},
   "outputs": [],
   "source": [
    "import time\n",
    "notebook_start = time.time()\n",
    "import pandas as pd\n",
    "import numpy as np\n",
    "import matplotlib.pyplot as plt\n",
    "import seaborn as sns\n",
    "%matplotlib inline\n",
    "\n",
    "from statsmodels.stats.outliers_influence import variance_inflation_factor\n",
    "import statsmodels.api as sm\n",
    "\n",
    "from imblearn.over_sampling import SMOTE\n",
    "\n",
    "from sklearn.preprocessing import StandardScaler, MinMaxScaler, OneHotEncoder, LabelEncoder\n",
    "from sklearn.model_selection import train_test_split, cross_val_score, GridSearchCV\n",
    "from sklearn.dummy import DummyClassifier\n",
    "from sklearn.linear_model import LogisticRegression\n",
    "from sklearn.ensemble import RandomForestClassifier\n",
    "from sklearn.metrics import (confusion_matrix, plot_confusion_matrix, plot_roc_curve, \n",
    "                             accuracy_score, recall_score, precision_score, f1_score)"
   ]
  },
  {
   "cell_type": "code",
   "execution_count": 2,
   "metadata": {},
   "outputs": [
    {
     "name": "stdout",
     "output_type": "stream",
     "text": [
      "<class 'pandas.core.frame.DataFrame'>\n",
      "RangeIndex: 482754 entries, 0 to 482753\n",
      "Data columns (total 12 columns):\n",
      " #   Column            Non-Null Count   Dtype  \n",
      "---  ------            --------------   -----  \n",
      " 0   term              482754 non-null  object \n",
      " 1   int_rate          482754 non-null  float64\n",
      " 2   grade             482754 non-null  object \n",
      " 3   dti               482754 non-null  float64\n",
      " 4   loan_status       482754 non-null  int64  \n",
      " 5   emp_length        482754 non-null  object \n",
      " 6   loan_amnt         482754 non-null  float64\n",
      " 7   annual_inc        482754 non-null  float64\n",
      " 8   application_type  482754 non-null  object \n",
      " 9   home_ownership    482754 non-null  object \n",
      " 10  date              482754 non-null  object \n",
      " 11  zip_code          482754 non-null  object \n",
      "dtypes: float64(4), int64(1), object(7)\n",
      "memory usage: 44.2+ MB\n",
      "None\n"
     ]
    },
    {
     "data": {
      "text/html": [
       "<div>\n",
       "<style scoped>\n",
       "    .dataframe tbody tr th:only-of-type {\n",
       "        vertical-align: middle;\n",
       "    }\n",
       "\n",
       "    .dataframe tbody tr th {\n",
       "        vertical-align: top;\n",
       "    }\n",
       "\n",
       "    .dataframe thead th {\n",
       "        text-align: right;\n",
       "    }\n",
       "</style>\n",
       "<table border=\"1\" class=\"dataframe\">\n",
       "  <thead>\n",
       "    <tr style=\"text-align: right;\">\n",
       "      <th></th>\n",
       "      <th>term</th>\n",
       "      <th>int_rate</th>\n",
       "      <th>grade</th>\n",
       "      <th>dti</th>\n",
       "      <th>loan_status</th>\n",
       "      <th>emp_length</th>\n",
       "      <th>loan_amnt</th>\n",
       "      <th>annual_inc</th>\n",
       "      <th>application_type</th>\n",
       "      <th>home_ownership</th>\n",
       "      <th>date</th>\n",
       "      <th>zip_code</th>\n",
       "    </tr>\n",
       "  </thead>\n",
       "  <tbody>\n",
       "    <tr>\n",
       "      <th>0</th>\n",
       "      <td>36 months</td>\n",
       "      <td>11.22</td>\n",
       "      <td>B</td>\n",
       "      <td>3.10</td>\n",
       "      <td>0</td>\n",
       "      <td>7 years</td>\n",
       "      <td>5000.0</td>\n",
       "      <td>65000.0</td>\n",
       "      <td>Individual</td>\n",
       "      <td>MORTGAGE</td>\n",
       "      <td>2016-01-01</td>\n",
       "      <td>201xx</td>\n",
       "    </tr>\n",
       "    <tr>\n",
       "      <th>1</th>\n",
       "      <td>36 months</td>\n",
       "      <td>9.17</td>\n",
       "      <td>B</td>\n",
       "      <td>20.30</td>\n",
       "      <td>0</td>\n",
       "      <td>10+ years</td>\n",
       "      <td>35000.0</td>\n",
       "      <td>82400.0</td>\n",
       "      <td>Individual</td>\n",
       "      <td>MORTGAGE</td>\n",
       "      <td>2016-01-01</td>\n",
       "      <td>146xx</td>\n",
       "    </tr>\n",
       "    <tr>\n",
       "      <th>2</th>\n",
       "      <td>36 months</td>\n",
       "      <td>5.32</td>\n",
       "      <td>A</td>\n",
       "      <td>7.43</td>\n",
       "      <td>0</td>\n",
       "      <td>9 years</td>\n",
       "      <td>20000.0</td>\n",
       "      <td>200000.0</td>\n",
       "      <td>Individual</td>\n",
       "      <td>OWN</td>\n",
       "      <td>2016-01-01</td>\n",
       "      <td>208xx</td>\n",
       "    </tr>\n",
       "    <tr>\n",
       "      <th>3</th>\n",
       "      <td>36 months</td>\n",
       "      <td>10.78</td>\n",
       "      <td>B</td>\n",
       "      <td>2.75</td>\n",
       "      <td>0</td>\n",
       "      <td>6 years</td>\n",
       "      <td>6000.0</td>\n",
       "      <td>85000.0</td>\n",
       "      <td>Individual</td>\n",
       "      <td>RENT</td>\n",
       "      <td>2016-01-01</td>\n",
       "      <td>908xx</td>\n",
       "    </tr>\n",
       "    <tr>\n",
       "      <th>4</th>\n",
       "      <td>36 months</td>\n",
       "      <td>12.88</td>\n",
       "      <td>C</td>\n",
       "      <td>8.07</td>\n",
       "      <td>1</td>\n",
       "      <td>&lt; 1 year</td>\n",
       "      <td>3725.0</td>\n",
       "      <td>16800.0</td>\n",
       "      <td>Individual</td>\n",
       "      <td>RENT</td>\n",
       "      <td>2016-01-01</td>\n",
       "      <td>294xx</td>\n",
       "    </tr>\n",
       "    <tr>\n",
       "      <th>...</th>\n",
       "      <td>...</td>\n",
       "      <td>...</td>\n",
       "      <td>...</td>\n",
       "      <td>...</td>\n",
       "      <td>...</td>\n",
       "      <td>...</td>\n",
       "      <td>...</td>\n",
       "      <td>...</td>\n",
       "      <td>...</td>\n",
       "      <td>...</td>\n",
       "      <td>...</td>\n",
       "      <td>...</td>\n",
       "    </tr>\n",
       "    <tr>\n",
       "      <th>482749</th>\n",
       "      <td>36 months</td>\n",
       "      <td>14.47</td>\n",
       "      <td>C</td>\n",
       "      <td>23.76</td>\n",
       "      <td>0</td>\n",
       "      <td>10+ years</td>\n",
       "      <td>7450.0</td>\n",
       "      <td>76000.0</td>\n",
       "      <td>Individual</td>\n",
       "      <td>MORTGAGE</td>\n",
       "      <td>2018-12-01</td>\n",
       "      <td>483xx</td>\n",
       "    </tr>\n",
       "    <tr>\n",
       "      <th>482750</th>\n",
       "      <td>36 months</td>\n",
       "      <td>12.98</td>\n",
       "      <td>B</td>\n",
       "      <td>26.50</td>\n",
       "      <td>0</td>\n",
       "      <td>10+ years</td>\n",
       "      <td>9600.0</td>\n",
       "      <td>75000.0</td>\n",
       "      <td>Individual</td>\n",
       "      <td>RENT</td>\n",
       "      <td>2018-12-01</td>\n",
       "      <td>917xx</td>\n",
       "    </tr>\n",
       "    <tr>\n",
       "      <th>482751</th>\n",
       "      <td>36 months</td>\n",
       "      <td>7.02</td>\n",
       "      <td>A</td>\n",
       "      <td>16.38</td>\n",
       "      <td>0</td>\n",
       "      <td>&lt; 1 year</td>\n",
       "      <td>20000.0</td>\n",
       "      <td>97000.0</td>\n",
       "      <td>Individual</td>\n",
       "      <td>RENT</td>\n",
       "      <td>2018-12-01</td>\n",
       "      <td>801xx</td>\n",
       "    </tr>\n",
       "    <tr>\n",
       "      <th>482752</th>\n",
       "      <td>36 months</td>\n",
       "      <td>15.02</td>\n",
       "      <td>C</td>\n",
       "      <td>11.64</td>\n",
       "      <td>0</td>\n",
       "      <td>&lt; 1 year</td>\n",
       "      <td>10000.0</td>\n",
       "      <td>66000.0</td>\n",
       "      <td>Individual</td>\n",
       "      <td>OWN</td>\n",
       "      <td>2018-12-01</td>\n",
       "      <td>452xx</td>\n",
       "    </tr>\n",
       "    <tr>\n",
       "      <th>482753</th>\n",
       "      <td>60 months</td>\n",
       "      <td>19.92</td>\n",
       "      <td>D</td>\n",
       "      <td>35.49</td>\n",
       "      <td>0</td>\n",
       "      <td>2 years</td>\n",
       "      <td>10400.0</td>\n",
       "      <td>40000.0</td>\n",
       "      <td>Joint App</td>\n",
       "      <td>RENT</td>\n",
       "      <td>2018-12-01</td>\n",
       "      <td>117xx</td>\n",
       "    </tr>\n",
       "  </tbody>\n",
       "</table>\n",
       "<p>482754 rows × 12 columns</p>\n",
       "</div>"
      ],
      "text/plain": [
       "              term  int_rate grade    dti  loan_status emp_length  loan_amnt  \\\n",
       "0        36 months     11.22     B   3.10            0    7 years     5000.0   \n",
       "1        36 months      9.17     B  20.30            0  10+ years    35000.0   \n",
       "2        36 months      5.32     A   7.43            0    9 years    20000.0   \n",
       "3        36 months     10.78     B   2.75            0    6 years     6000.0   \n",
       "4        36 months     12.88     C   8.07            1   < 1 year     3725.0   \n",
       "...            ...       ...   ...    ...          ...        ...        ...   \n",
       "482749   36 months     14.47     C  23.76            0  10+ years     7450.0   \n",
       "482750   36 months     12.98     B  26.50            0  10+ years     9600.0   \n",
       "482751   36 months      7.02     A  16.38            0   < 1 year    20000.0   \n",
       "482752   36 months     15.02     C  11.64            0   < 1 year    10000.0   \n",
       "482753   60 months     19.92     D  35.49            0    2 years    10400.0   \n",
       "\n",
       "        annual_inc application_type home_ownership        date zip_code  \n",
       "0          65000.0       Individual       MORTGAGE  2016-01-01    201xx  \n",
       "1          82400.0       Individual       MORTGAGE  2016-01-01    146xx  \n",
       "2         200000.0       Individual            OWN  2016-01-01    208xx  \n",
       "3          85000.0       Individual           RENT  2016-01-01    908xx  \n",
       "4          16800.0       Individual           RENT  2016-01-01    294xx  \n",
       "...            ...              ...            ...         ...      ...  \n",
       "482749     76000.0       Individual       MORTGAGE  2018-12-01    483xx  \n",
       "482750     75000.0       Individual           RENT  2018-12-01    917xx  \n",
       "482751     97000.0       Individual           RENT  2018-12-01    801xx  \n",
       "482752     66000.0       Individual            OWN  2018-12-01    452xx  \n",
       "482753     40000.0        Joint App           RENT  2018-12-01    117xx  \n",
       "\n",
       "[482754 rows x 12 columns]"
      ]
     },
     "execution_count": 2,
     "metadata": {},
     "output_type": "execute_result"
    }
   ],
   "source": [
    "pd.set_option('display.max_colwidth', None)\n",
    "# download a dataset with a description of each column\n",
    "feat_def = pd.read_excel('https://resources.lendingclub.com/LCDataDictionary.xlsx')\n",
    "\n",
    "accepted_df = pd.read_csv('data/accepted_16_to_18.csv')\n",
    "print(accepted_df.info())\n",
    "accepted_df"
   ]
  },
  {
   "cell_type": "markdown",
   "metadata": {},
   "source": [
    "## Pre-processing"
   ]
  },
  {
   "cell_type": "markdown",
   "metadata": {},
   "source": [
    "As I mentioned in the cleaning and eda notebook, I am going to focus on predicting the loans with high interest. But first I'll try to predict on all the loans.\n",
    "\n",
    "I will scale the numerical data, and use a label encoder to put the categorical features in numeric form so the model can handle them. I will scale after the train test split to avoid any leakage."
   ]
  },
  {
   "cell_type": "code",
   "execution_count": 3,
   "metadata": {},
   "outputs": [
    {
     "data": {
      "text/html": [
       "<div>\n",
       "<style scoped>\n",
       "    .dataframe tbody tr th:only-of-type {\n",
       "        vertical-align: middle;\n",
       "    }\n",
       "\n",
       "    .dataframe tbody tr th {\n",
       "        vertical-align: top;\n",
       "    }\n",
       "\n",
       "    .dataframe thead th {\n",
       "        text-align: right;\n",
       "    }\n",
       "</style>\n",
       "<table border=\"1\" class=\"dataframe\">\n",
       "  <thead>\n",
       "    <tr style=\"text-align: right;\">\n",
       "      <th></th>\n",
       "      <th>term</th>\n",
       "      <th>int_rate</th>\n",
       "      <th>grade</th>\n",
       "      <th>dti</th>\n",
       "      <th>loan_status</th>\n",
       "      <th>emp_length</th>\n",
       "      <th>loan_amnt</th>\n",
       "      <th>annual_inc</th>\n",
       "      <th>application_type</th>\n",
       "      <th>home_ownership</th>\n",
       "      <th>date</th>\n",
       "      <th>zip_code</th>\n",
       "    </tr>\n",
       "  </thead>\n",
       "  <tbody>\n",
       "    <tr>\n",
       "      <th>0</th>\n",
       "      <td>0</td>\n",
       "      <td>11.22</td>\n",
       "      <td>1</td>\n",
       "      <td>3.10</td>\n",
       "      <td>0</td>\n",
       "      <td>7</td>\n",
       "      <td>5000.0</td>\n",
       "      <td>65000.0</td>\n",
       "      <td>0</td>\n",
       "      <td>1</td>\n",
       "      <td>2016-01-01</td>\n",
       "      <td>201xx</td>\n",
       "    </tr>\n",
       "    <tr>\n",
       "      <th>1</th>\n",
       "      <td>0</td>\n",
       "      <td>9.17</td>\n",
       "      <td>1</td>\n",
       "      <td>20.30</td>\n",
       "      <td>0</td>\n",
       "      <td>1</td>\n",
       "      <td>35000.0</td>\n",
       "      <td>82400.0</td>\n",
       "      <td>0</td>\n",
       "      <td>1</td>\n",
       "      <td>2016-01-01</td>\n",
       "      <td>146xx</td>\n",
       "    </tr>\n",
       "    <tr>\n",
       "      <th>2</th>\n",
       "      <td>0</td>\n",
       "      <td>5.32</td>\n",
       "      <td>0</td>\n",
       "      <td>7.43</td>\n",
       "      <td>0</td>\n",
       "      <td>9</td>\n",
       "      <td>20000.0</td>\n",
       "      <td>200000.0</td>\n",
       "      <td>0</td>\n",
       "      <td>3</td>\n",
       "      <td>2016-01-01</td>\n",
       "      <td>208xx</td>\n",
       "    </tr>\n",
       "    <tr>\n",
       "      <th>3</th>\n",
       "      <td>0</td>\n",
       "      <td>10.78</td>\n",
       "      <td>1</td>\n",
       "      <td>2.75</td>\n",
       "      <td>0</td>\n",
       "      <td>6</td>\n",
       "      <td>6000.0</td>\n",
       "      <td>85000.0</td>\n",
       "      <td>0</td>\n",
       "      <td>4</td>\n",
       "      <td>2016-01-01</td>\n",
       "      <td>908xx</td>\n",
       "    </tr>\n",
       "    <tr>\n",
       "      <th>4</th>\n",
       "      <td>0</td>\n",
       "      <td>12.88</td>\n",
       "      <td>2</td>\n",
       "      <td>8.07</td>\n",
       "      <td>1</td>\n",
       "      <td>10</td>\n",
       "      <td>3725.0</td>\n",
       "      <td>16800.0</td>\n",
       "      <td>0</td>\n",
       "      <td>4</td>\n",
       "      <td>2016-01-01</td>\n",
       "      <td>294xx</td>\n",
       "    </tr>\n",
       "    <tr>\n",
       "      <th>...</th>\n",
       "      <td>...</td>\n",
       "      <td>...</td>\n",
       "      <td>...</td>\n",
       "      <td>...</td>\n",
       "      <td>...</td>\n",
       "      <td>...</td>\n",
       "      <td>...</td>\n",
       "      <td>...</td>\n",
       "      <td>...</td>\n",
       "      <td>...</td>\n",
       "      <td>...</td>\n",
       "      <td>...</td>\n",
       "    </tr>\n",
       "    <tr>\n",
       "      <th>482749</th>\n",
       "      <td>0</td>\n",
       "      <td>14.47</td>\n",
       "      <td>2</td>\n",
       "      <td>23.76</td>\n",
       "      <td>0</td>\n",
       "      <td>1</td>\n",
       "      <td>7450.0</td>\n",
       "      <td>76000.0</td>\n",
       "      <td>0</td>\n",
       "      <td>1</td>\n",
       "      <td>2018-12-01</td>\n",
       "      <td>483xx</td>\n",
       "    </tr>\n",
       "    <tr>\n",
       "      <th>482750</th>\n",
       "      <td>0</td>\n",
       "      <td>12.98</td>\n",
       "      <td>1</td>\n",
       "      <td>26.50</td>\n",
       "      <td>0</td>\n",
       "      <td>1</td>\n",
       "      <td>9600.0</td>\n",
       "      <td>75000.0</td>\n",
       "      <td>0</td>\n",
       "      <td>4</td>\n",
       "      <td>2018-12-01</td>\n",
       "      <td>917xx</td>\n",
       "    </tr>\n",
       "    <tr>\n",
       "      <th>482751</th>\n",
       "      <td>0</td>\n",
       "      <td>7.02</td>\n",
       "      <td>0</td>\n",
       "      <td>16.38</td>\n",
       "      <td>0</td>\n",
       "      <td>10</td>\n",
       "      <td>20000.0</td>\n",
       "      <td>97000.0</td>\n",
       "      <td>0</td>\n",
       "      <td>4</td>\n",
       "      <td>2018-12-01</td>\n",
       "      <td>801xx</td>\n",
       "    </tr>\n",
       "    <tr>\n",
       "      <th>482752</th>\n",
       "      <td>0</td>\n",
       "      <td>15.02</td>\n",
       "      <td>2</td>\n",
       "      <td>11.64</td>\n",
       "      <td>0</td>\n",
       "      <td>10</td>\n",
       "      <td>10000.0</td>\n",
       "      <td>66000.0</td>\n",
       "      <td>0</td>\n",
       "      <td>3</td>\n",
       "      <td>2018-12-01</td>\n",
       "      <td>452xx</td>\n",
       "    </tr>\n",
       "    <tr>\n",
       "      <th>482753</th>\n",
       "      <td>1</td>\n",
       "      <td>19.92</td>\n",
       "      <td>3</td>\n",
       "      <td>35.49</td>\n",
       "      <td>0</td>\n",
       "      <td>2</td>\n",
       "      <td>10400.0</td>\n",
       "      <td>40000.0</td>\n",
       "      <td>1</td>\n",
       "      <td>4</td>\n",
       "      <td>2018-12-01</td>\n",
       "      <td>117xx</td>\n",
       "    </tr>\n",
       "  </tbody>\n",
       "</table>\n",
       "<p>482754 rows × 12 columns</p>\n",
       "</div>"
      ],
      "text/plain": [
       "        term  int_rate  grade    dti  loan_status  emp_length  loan_amnt  \\\n",
       "0          0     11.22      1   3.10            0           7     5000.0   \n",
       "1          0      9.17      1  20.30            0           1    35000.0   \n",
       "2          0      5.32      0   7.43            0           9    20000.0   \n",
       "3          0     10.78      1   2.75            0           6     6000.0   \n",
       "4          0     12.88      2   8.07            1          10     3725.0   \n",
       "...      ...       ...    ...    ...          ...         ...        ...   \n",
       "482749     0     14.47      2  23.76            0           1     7450.0   \n",
       "482750     0     12.98      1  26.50            0           1     9600.0   \n",
       "482751     0      7.02      0  16.38            0          10    20000.0   \n",
       "482752     0     15.02      2  11.64            0          10    10000.0   \n",
       "482753     1     19.92      3  35.49            0           2    10400.0   \n",
       "\n",
       "        annual_inc  application_type  home_ownership        date zip_code  \n",
       "0          65000.0                 0               1  2016-01-01    201xx  \n",
       "1          82400.0                 0               1  2016-01-01    146xx  \n",
       "2         200000.0                 0               3  2016-01-01    208xx  \n",
       "3          85000.0                 0               4  2016-01-01    908xx  \n",
       "4          16800.0                 0               4  2016-01-01    294xx  \n",
       "...            ...               ...             ...         ...      ...  \n",
       "482749     76000.0                 0               1  2018-12-01    483xx  \n",
       "482750     75000.0                 0               4  2018-12-01    917xx  \n",
       "482751     97000.0                 0               4  2018-12-01    801xx  \n",
       "482752     66000.0                 0               3  2018-12-01    452xx  \n",
       "482753     40000.0                 1               4  2018-12-01    117xx  \n",
       "\n",
       "[482754 rows x 12 columns]"
      ]
     },
     "execution_count": 3,
     "metadata": {},
     "output_type": "execute_result"
    }
   ],
   "source": [
    "df = accepted_df.copy()\n",
    "# instantiate a label encoder and transform the categorical features\n",
    "le = LabelEncoder()\n",
    "df['application_type'] = le.fit_transform(df['application_type'])\n",
    "df['term'] = le.fit_transform(df['term'])\n",
    "df['grade'] = le.fit_transform(df['grade'])\n",
    "df['home_ownership'] = le.fit_transform(df['home_ownership'])\n",
    "df['emp_length'] = le.fit_transform(df['emp_length'])\n",
    "df"
   ]
  },
  {
   "cell_type": "code",
   "execution_count": 4,
   "metadata": {},
   "outputs": [],
   "source": [
    "# split the data into a training set and testing set.\n",
    "# I won't be using the date or zip_codes for the training.\n",
    "X = df.drop(['loan_status', 'date', 'zip_code'],axis=1)\n",
    "y = df['loan_status']\n",
    "X_train, X_test, y_train, y_test = train_test_split(X, y, test_size=0.15, random_state=42)"
   ]
  },
  {
   "cell_type": "code",
   "execution_count": 5,
   "metadata": {},
   "outputs": [],
   "source": [
    "# instantiate scaler\n",
    "sc = StandardScaler()\n",
    "\n",
    "# seperate the numerical and categorical columns for training and testing data so that I can scale the numerical\n",
    "# and then concatenate them.\n",
    "# reset the index for smoothe concatenation\n",
    "num_train = X_train.select_dtypes(include='float64').reset_index(drop=True)\n",
    "num_test = X_test.select_dtypes(include='float64').reset_index(drop=True)\n",
    "cat_train = X_train.select_dtypes(include='int32').reset_index(drop=True)\n",
    "cat_test = X_test.select_dtypes(include='int32').reset_index(drop=True)\n",
    "\n",
    "# fit and transform the scaler on training and testing data\n",
    "sc_num_train = sc.fit_transform(num_train)\n",
    "sc_num_test = sc.transform(num_test)\n",
    "# put the scaled data back into a dataframe\n",
    "sc_train_df = pd.DataFrame(sc_num_train, columns=num_train.columns)\n",
    "sc_test_df = pd.DataFrame(sc_num_test, columns=num_test.columns)\n",
    "\n",
    "# concatenate back together\n",
    "X_train_ready = pd.concat([sc_train_df, cat_train], axis=1)\n",
    "X_test_ready = pd.concat([sc_test_df, cat_test], axis=1)"
   ]
  },
  {
   "cell_type": "markdown",
   "metadata": {},
   "source": [
    "Here's a baseline model to compare the rest of our models to."
   ]
  },
  {
   "cell_type": "code",
   "execution_count": 17,
   "metadata": {},
   "outputs": [
    {
     "data": {
      "text/plain": [
       "0.6577871682271385"
      ]
     },
     "execution_count": 17,
     "metadata": {},
     "output_type": "execute_result"
    },
    {
     "data": {
      "image/png": "[encoded data removed]",
      "text/plain": [
       "<Figure size 432x288 with 2 Axes>"
      ]
     },
     "metadata": {
      "needs_background": "light"
     },
     "output_type": "display_data"
    }
   ],
   "source": [
    "dummy = DummyClassifier(strategy=\"stratified\", random_state=42)\n",
    "dummy.fit(X_train_ready, y_train)\n",
    "plot_confusion_matrix(dummy, X_test_ready, y_test)\n",
    "dummy.score(X_test_ready, y_test)"
   ]
  },
  {
   "cell_type": "code",
   "execution_count": 51,
   "metadata": {},
   "outputs": [],
   "source": [
    "# def logreg(X_train, X_test, y_train, y_test, cv=5):\n",
    "    \n",
    "#     # Set GridSearchCV hyperparameters to compare & select\n",
    "#     weights = [-10, 1, 10, 100]\n",
    "#     grid = {\n",
    "#     'C': [0.01, 0.1, 1, 10],\n",
    "#     'class_weight': [{0:100, 1:1}, {0:10, 1:1}, {0:1, 1:1}, {0:1, 1:10}, {0:1, 1:100}]\n",
    "# #     'class_weight':[{0:x, 1:1.0-x} for x in weights]\n",
    "#     }\n",
    "    \n",
    "#     # Instantiate & fit LogReg model for GridSearch\n",
    "#     grid_logreg = LogisticRegression(random_state=42)\n",
    "#     # Instantiate & fit GridSearchCV with accuracy scoring\n",
    "#     gs = GridSearchCV(estimator=grid_logreg, param_grid=grid, cv=cv, scoring='accuracy')\n",
    "#     gs.fit(X_train, y_train)\n",
    "#     print(gs.best_params_)\n",
    "#     # Create prediction variable using test data\n",
    "#     y_pred = gs.predict(X_test)\n",
    "#     # Run cross-validate score with cv folds from function parameter\n",
    "#     cv_results = cross_val_score(gs, X_train, y_train, cv=cv)\n",
    "#     print(f'Mean Cross-Val Score: {round(cv_results.mean(), 4)*100}')\n",
    "#     # Run and print accuracy, recall, precision and f1 scores\n",
    "#     train_score = gs.score(X_train, y_train)\n",
    "#     print(f'Train Mean Accuracy: {round(train_score, 4)*100}')\n",
    "#     test_score = gs.score(X_test, y_test)\n",
    "#     print(f'Accuracy Score: {round(test_score, 4)*100}')\n",
    "#     rec_score = recall_score(y_test, y_pred)\n",
    "#     print(f'Recall Score: {round(rec_score, 4)*100}')\n",
    "#     prec_score = precision_score(y_test, y_pred)\n",
    "#     print(f'Precision Score: {round(prec_score, 4)*100}')\n",
    "#     f1 = f1_score(y_test, y_pred)\n",
    "#     print(f'F1 Score: {round(f1, 4)*100}')\n",
    "#     # Plot an ROC curve \n",
    "#     fig, ax = plt.subplots()\n",
    "#     plot_roc_curve(gs, X_train, y_train, name='train', ax=ax)\n",
    "#     plot_roc_curve(gs, X_test, y_test, name='test', ax=ax)\n",
    "#     # Plot Confusion Matrix\n",
    "#     plot_confusion_matrix(gs, X_test, y_test)"
   ]
  },
  {
   "cell_type": "code",
   "execution_count": 60,
   "metadata": {
    "scrolled": false
   },
   "outputs": [
    {
     "name": "stdout",
     "output_type": "stream",
     "text": [
      "Accuracy of Regularized Logistic Regression is: 78.24\n",
      "Recall of Regularized Logistic Regression is: 9.91\n"
     ]
    },
    {
     "data": {
      "image/png": "[encoded data removed]",
      "text/plain": [
       "<Figure size 432x288 with 2 Axes>"
      ]
     },
     "metadata": {
      "needs_background": "light"
     },
     "output_type": "display_data"
    }
   ],
   "source": [
    "# Instantiate a logistic regression then fit it on X_train and get the scoring metrics witha confusion matrix\n",
    "lr=LogisticRegression(random_state=42)\n",
    "lr.fit(X_train_ready,y_train)\n",
    "pred_lr = lr.predict(X_test_ready)\n",
    "accuracy_lr= accuracy_score(y_test, pred_lr)*100\n",
    "recall_lr = recall_score(y_test, pred_lr)*100\n",
    "print('Accuracy of Regularized Logistic Regression is: {:.2f}'.format(accuracy_lr))\n",
    "print('Recall of Regularized Logistic Regression is: {:.2f}'.format(recall_lr))\n",
    "confusion_matrix(lr, X_test_ready, y_test);"
   ]
  },
  {
   "cell_type": "markdown",
   "metadata": {},
   "source": [
    "Being able to predict almost 80 percent of the time, should be enough to make you money with this type of investment. However if we're trying to find an edge to get soem very good value, our model needs to be more sensitive to the defaulted loans. Even if our model tells us that a lot of loans will default when in reality only a few will, if narrow down our investments to the loans the model does not think will default, we get a much better return. So far our model does a very poor job identifying the charged off loans. This is largely due to the great imbalance in the classes, which makes it very hard for the model to learn what a defaulted loan would look like.\n",
    "\n",
    "To help with this, I can alter the weights of each class to put more weight on the minority class. Or I can change the threshhold for predicting a \"1\" to make it more sensitive. I can also use SMOTE to correct the imbalance and see if these techniques will improve the score. This will probably come at the cost of overall accuracy, but we're happy to make that trade since this will get us better returns for the investment."
   ]
  },
  {
   "cell_type": "markdown",
   "metadata": {},
   "source": [
    "I will also try to tune the hyperparameters for the model using a grid search, as well as try some other algorithms that may perform better."
   ]
  },
  {
   "cell_type": "markdown",
   "metadata": {},
   "source": [
    "# True Negative rate!"
   ]
  },
  {
   "cell_type": "code",
   "execution_count": 96,
   "metadata": {},
   "outputs": [
    {
     "name": "stdout",
     "output_type": "stream",
     "text": [
      "Accuracy of Regularized Logistic Regression is: 62.48\n",
      "Recall of Regularized Logistic Regression is: 67.54\n",
      "[[34467 21987]\n",
      " [ 5180 10780]]\n"
     ]
    }
   ],
   "source": [
    "# Instantiate a logistic regression then fit it on X_train and get the scoring metrics witha confusion matrix\n",
    "lr=LogisticRegression(random_state=42)\n",
    "lr.fit(X_train_ready,y_train)\n",
    "pred_lr = (lr.predict_proba(X_test_ready)[:,1] >= 0.2).astype(bool)\n",
    "accuracy_lr= accuracy_score(y_test, pred_lr)*100\n",
    "recall_lr = recall_score(y_test, pred_lr)*100\n",
    "print('Accuracy of Regularized Logistic Regression is: {:.2f}'.format(accuracy_lr))\n",
    "print('Recall of Regularized Logistic Regression is: {:.2f}'.format(recall_lr))\n",
    "print(confusion_matrix(y_test, pred_lr))"
   ]
  },
  {
   "cell_type": "code",
   "execution_count": 66,
   "metadata": {},
   "outputs": [
    {
     "data": {
      "text/plain": [
       "1    0.5\n",
       "0    0.5\n",
       "Name: loan_status, dtype: float64"
      ]
     },
     "execution_count": 66,
     "metadata": {},
     "output_type": "execute_result"
    }
   ],
   "source": [
    "smote = SMOTE(random_state=42)\n",
    "X_train_sm, y_train_sm = smote.fit_sample(X_train_ready, y_train)\n",
    "y_train_sm.value_counts()"
   ]
  },
  {
   "cell_type": "code",
   "execution_count": 67,
   "metadata": {},
   "outputs": [
    {
     "data": {
      "text/plain": [
       "1    321106\n",
       "0    321106\n",
       "Name: loan_status, dtype: int64"
      ]
     },
     "execution_count": 67,
     "metadata": {},
     "output_type": "execute_result"
    }
   ],
   "source": [
    "y_train_sm.value_counts()"
   ]
  },
  {
   "cell_type": "markdown",
   "metadata": {},
   "source": [
    "Now that I have balanced classes, the model may perform better."
   ]
  },
  {
   "cell_type": "code",
   "execution_count": 76,
   "metadata": {},
   "outputs": [
    {
     "name": "stdout",
     "output_type": "stream",
     "text": [
      "Accuracy of Regularized Logistic Regression is: 62.84\n",
      "Recall of Regularized Logistic Regression is: 67.27\n"
     ]
    },
    {
     "data": {
      "image/png": "[encoded data removed]",
      "text/plain": [
       "<Figure size 432x288 with 2 Axes>"
      ]
     },
     "metadata": {
      "needs_background": "light"
     },
     "output_type": "display_data"
    }
   ],
   "source": [
    "# Instantiate a logistic regression then fit it on X_train and get the scoring metrics witha confusion matrix\n",
    "lr=LogisticRegression(random_state=42, class_weight={0:1, 1:4})\n",
    "lr.fit(X_train_ready,y_train)\n",
    "pred_lr = lr.predict(X_test_ready)\n",
    "accuracy_lr= accuracy_score(y_test, pred_lr)*100\n",
    "recall_lr = recall_score(y_test, pred_lr)*100\n",
    "print('Accuracy of Regularized Logistic Regression is: {:.2f}'.format(accuracy_lr))\n",
    "print('Recall of Regularized Logistic Regression is: {:.2f}'.format(recall_lr))\n",
    "plot_confusion_matrix(lr, X_test_ready, y_test);"
   ]
  },
  {
   "cell_type": "code",
   "execution_count": 77,
   "metadata": {},
   "outputs": [
    {
     "name": "stdout",
     "output_type": "stream",
     "text": [
      "Accuracy of Regularized Logistic Regression is: 65.94\n",
      "Recall of Regularized Logistic Regression is: 61.68\n"
     ]
    },
    {
     "data": {
      "image/png": "[encoded data removed]",
      "text/plain": [
       "<Figure size 432x288 with 2 Axes>"
      ]
     },
     "metadata": {
      "needs_background": "light"
     },
     "output_type": "display_data"
    }
   ],
   "source": [
    "# Instantiate a logistic regression then fit it on X_train and get the scoring metrics witha confusion matrix\n",
    "lr=LogisticRegression(random_state=42)\n",
    "lr.fit(X_train_sm, y_train_sm)\n",
    "pred_lr = lr.predict(X_test_ready)\n",
    "accuracy_lr= accuracy_score(y_test, pred_lr)*100\n",
    "recall_lr = recall_score(y_test, pred_lr)*100\n",
    "print('Accuracy of Regularized Logistic Regression is: {:.2f}'.format(accuracy_lr))\n",
    "print('Recall of Regularized Logistic Regression is: {:.2f}'.format(recall_lr))\n",
    "plot_confusion_matrix(lr, X_test_ready, y_test);"
   ]
  },
  {
   "cell_type": "code",
   "execution_count": 78,
   "metadata": {},
   "outputs": [
    {
     "name": "stdout",
     "output_type": "stream",
     "text": [
      "Accuracy of Regularized Random Forest is: 73.65\n",
      "Recall of Regularized Random Forest is: 31.28\n"
     ]
    },
    {
     "data": {
      "image/png": "[encoded data removed]",
      "text/plain": [
       "<Figure size 432x288 with 2 Axes>"
      ]
     },
     "metadata": {
      "needs_background": "light"
     },
     "output_type": "display_data"
    }
   ],
   "source": [
    "# Do the same with random forest classifier\n",
    "rf = RandomForestClassifier(random_state=42)\n",
    "rf.fit(X_train_sm, y_train_sm)\n",
    "pred_rf = rf.predict(X_test_ready)\n",
    "accuracy_rf= accuracy_score(y_test, pred_rf)*100\n",
    "recall_rf = recall_score(y_test, pred_rf)*100\n",
    "print('Accuracy of Random Forest is: {:.2f}'.format(accuracy_rf))\n",
    "print('Recall of Random Forest is: {:.2f}'.format(recall_rf))\n",
    "plot_confusion_matrix(rf, X_test_ready, y_test);"
   ]
  },
  {
   "cell_type": "code",
   "execution_count": 79,
   "metadata": {},
   "outputs": [
    {
     "name": "stdout",
     "output_type": "stream",
     "text": [
      "Accuracy of Logistic Regression is: 65.75\n",
      "Recall of Logistic Regression is: 62.12\n"
     ]
    },
    {
     "data": {
      "image/png": "[encoded data removed]",
      "text/plain": [
       "<Figure size 432x288 with 2 Axes>"
      ]
     },
     "metadata": {
      "needs_background": "light"
     },
     "output_type": "display_data"
    }
   ],
   "source": [
    "# Instantiate a logistic regression then fit it on X_train and get the scoring metrics witha confusion matrix\n",
    "lr=LogisticRegression(random_state=42, class_weight='balanced')\n",
    "lr.fit(X_train_ready,y_train)\n",
    "pred_lr = lr.predict(X_test_ready)\n",
    "accuracy_lr= accuracy_score(y_test, pred_lr)*100\n",
    "recall_lr = recall_score(y_test, pred_lr)*100\n",
    "print('Accuracy of Logistic Regression is: {:.2f}'.format(accuracy_lr))\n",
    "print('Recall of Logistic Regression is: {:.2f}'.format(recall_lr))\n",
    "plot_confusion_matrix(lr, X_test_ready, y_test);"
   ]
  },
  {
   "cell_type": "markdown",
   "metadata": {},
   "source": [
    "As we mentioned earlier I will try to predict the loans that have higher int_rates."
   ]
  },
  {
   "cell_type": "code",
   "execution_count": 86,
   "metadata": {},
   "outputs": [
    {
     "data": {
      "text/plain": [
       "C    0.529678\n",
       "D    0.286912\n",
       "E    0.122274\n",
       "F    0.043972\n",
       "G    0.016633\n",
       "B    0.000531\n",
       "Name: grade, dtype: float64"
      ]
     },
     "execution_count": 86,
     "metadata": {},
     "output_type": "execute_result"
    }
   ],
   "source": [
    "accepted_df[accepted_df.int_rate > accepted_df.int_rate.median()].grade.value_counts(normalize=True)"
   ]
  },
  {
   "cell_type": "code",
   "execution_count": 84,
   "metadata": {},
   "outputs": [
    {
     "data": {
      "text/plain": [
       "C    0.301775\n",
       "B    0.291689\n",
       "A    0.171659\n",
       "D    0.143452\n",
       "E    0.061120\n",
       "F    0.021984\n",
       "G    0.008321\n",
       "Name: grade, dtype: float64"
      ]
     },
     "execution_count": 84,
     "metadata": {},
     "output_type": "execute_result"
    }
   ],
   "source": [
    "accepted_df.grade.value_counts(normalize=True)"
   ]
  },
  {
   "cell_type": "code",
   "execution_count": null,
   "metadata": {},
   "outputs": [],
   "source": [
    "notebook_end = time.time()\n",
    "print(f'This notebook takes {round(notebook_end - notebook_start, 0)} seconds to run')"
   ]
  }
 ],
 "metadata": {
  "kernelspec": {
   "display_name": "Python (learn-env)",
   "language": "python",
   "name": "learn-env"
  },
  "language_info": {
   "codemirror_mode": {
    "name": "ipython",
    "version": 3
   },
   "file_extension": ".py",
   "mimetype": "text/x-python",
   "name": "python",
   "nbconvert_exporter": "python",
   "pygments_lexer": "ipython3",
   "version": "3.8.5"
  }
 },
 "nbformat": 4,
 "nbformat_minor": 4
}
